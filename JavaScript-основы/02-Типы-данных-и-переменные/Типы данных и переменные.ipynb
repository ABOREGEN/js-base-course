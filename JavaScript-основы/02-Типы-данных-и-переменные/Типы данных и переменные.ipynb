{
 "cells": [
  {
   "cell_type": "markdown",
   "metadata": {},
   "source": [
    "# Типы данных и переменные\n",
    "### Типы данных в JavaScript\n",
    "**Тип данных**: Множество значений и операций на этих значениях; Определенный тип данных хранимый в ячейках памяти компьютера\n",
    "\n",
    "JavaScript слабо типизированый язык\n",
    "- Позволяет выполнять большинство операций над данными без обьявления их типа\n",
    "- Значения имеют тип, переменные нет\n",
    "- Переменные могут хранить любые типы данных\n",
    "- Все переменные определяются с помошью предикаторов `var`, `let` или `const`\n",
    "\n",
    "```js\n",
    "var count = 5; // переменая хранит целочисленный тип\n",
    "count = 'привет'; // теперь хрнит строку\n",
    "\n",
    "var name = 'Курс JavaScript'; // переменная хранит строку\n",
    "\n",
    "let mark = 5.25 // переменная хранит число с плавающей точкой\n",
    "mark = true; // тперь хранит булево значение\n",
    "\n",
    "const MAX_COUNT = 250; // константа хранит число\n",
    "MAX_COUNT = 0; // ошибка переназначения значения константы\n",
    "```\n",
    "### Переменные в JavaScript\n",
    "\n",
    "**Переменная** это: Поименованная область в памяти, которая может быть изменеа в процессе выполнения программы\n",
    "\n",
    "Переменные позволяют:\n",
    "  - Хранить информацию\n",
    "  - Извлекать информацию\n",
    "  - Манипулировать информацией\n",
    "\n",
    "```js\n",
    "let counter = 5;\n",
    "```\n",
    "\n",
    "### Числа в  JavaScript\n",
    "- Все числа в JavaScript хранятся в виде чисел с плавающей запятой двойной точности\n",
    "- В соответствии с **IEEE-754** стандартом\n",
    "  - Могут быть представлены как объект с типом `Number`\n",
    "\n",
    "```js\n",
    "let value = 5;\n",
    "value = 3.14159;\n",
    "value = new Number(100); // Number { 100 }\n",
    "value = value + 1; // 101\n",
    "let biggestNum = Number.MAX_VALUE;\n",
    "```\n",
    "\n",
    "### Изменения типов номеров\n",
    "- Перевод `floating-point` в `integer` числа\n",
    "\n",
    "```js\n",
    "let valueDouble = 8.75;\n",
    "let valueInt = valueDouble | 0; // 8\n",
    "```\n",
    "- Конвертация в `integer` с помощью округления\n",
    "\n",
    "```js\n",
    "let valueDouble = 8.75;\n",
    "let roundedInt = (valueDouble + 0.5) | 0; // 9\n",
    "```\n",
    "- Конвертация `string` в `integer`\n",
    "\n",
    "```js\n",
    "let str = '1234';\n",
    "let i = str | 0 + 1; // 1235\n",
    "```"
   ]
  },
  {
   "cell_type": "markdown",
   "metadata": {},
   "source": [
    "### Целочисленный тип\n",
    "- Находится в диапазоне значений, в зависимости от размера ячейки памяти\n",
    "- Целые значения может содержать цифры от `` -9007199254740992` до 9007199254740992`\n",
    "- Их их базовым типом является число с плавающей точкой (** IEEE-754 **)"
   ]
  },
  {
   "cell_type": "code",
   "execution_count": null,
   "metadata": {
    "collapsed": false,
    "scrolled": true
   },
   "outputs": [],
   "source": [
    "'use strict';\n",
    "var studentsCount = 5;\n",
    "console.log('studentsCount is: ' + studentsCount);"
   ]
  },
  {
   "cell_type": "code",
   "execution_count": null,
   "metadata": {
    "collapsed": false,
    "scrolled": true
   },
   "outputs": [],
   "source": [
    "var maxInteger = 9007199254740991;\n",
    "console.log('max precise integer is: ' + maxInteger);"
   ]
  },
  {
   "cell_type": "code",
   "execution_count": null,
   "metadata": {
    "collapsed": false,
    "scrolled": true
   },
   "outputs": [],
   "source": [
    "var minInteger = -9007199254740991;\n",
    "console.log('min precise integer is: ' + minInteger);"
   ]
  },
  {
   "cell_type": "code",
   "execution_count": null,
   "metadata": {
    "collapsed": false,
    "scrolled": true
   },
   "outputs": [],
   "source": [
    "var greaterThanMax = maxInteger + 1;\n",
    "console.log('is maxInteger + 1 possible?  ' + greaterThanMax);"
   ]
  },
  {
   "cell_type": "code",
   "execution_count": null,
   "metadata": {
    "collapsed": false,
    "scrolled": true
   },
   "outputs": [],
   "source": [
    "var maxIntMult33 = maxInteger * 33;\n",
    "console.log('maxInteger * 33 is: ' + maxIntMult33);\n",
    "// Потерянная точность. Корректное значение 297237575406452736"
   ]
  },
  {
   "cell_type": "markdown",
   "metadata": {},
   "source": [
    "### Числа с плавающей точкой\n",
    "- Является диапазонами всех действительных чисел\n",
    "- Могут быть заданы с точностью до определенного количества знаков после точки\n",
    "- Могут вести себя ненормально при вычислениях"
   ]
  },
  {
   "cell_type": "code",
   "execution_count": null,
   "metadata": {
    "collapsed": false,
    "scrolled": true
   },
   "outputs": [],
   "source": [
    "var PI = Math.PI; // 3.141592653589793\n",
    "console.log('PI = ' + PI);"
   ]
  },
  {
   "cell_type": "code",
   "execution_count": null,
   "metadata": {
    "collapsed": false,
    "scrolled": true
   },
   "outputs": [],
   "source": [
    "var minValue = Number.MIN_VALUE;\n",
    "console.log('Number.MIN_VALUE = ' + minValue);"
   ]
  },
  {
   "cell_type": "code",
   "execution_count": null,
   "metadata": {
    "collapsed": false,
    "scrolled": true
   },
   "outputs": [],
   "source": [
    "var maxValue = Number.MAX_VALUE;\n",
    "console.log('Number.MAX_VALUE = ' + maxValue);"
   ]
  },
  {
   "cell_type": "code",
   "execution_count": null,
   "metadata": {
    "collapsed": false,
    "scrolled": true
   },
   "outputs": [],
   "source": [
    "var div0 = PI / 0; // Infinity\n",
    "console.log('PI / 0 = ' + div0);"
   ]
  },
  {
   "cell_type": "code",
   "execution_count": null,
   "metadata": {
    "collapsed": false,
    "scrolled": true
   },
   "outputs": [],
   "source": [
    "var divMinus0 = -PI / 0; // -Infinity\n",
    "console.log('-PI / 0 = ' + divMinus0);"
   ]
  },
  {
   "cell_type": "code",
   "execution_count": null,
   "metadata": {
    "collapsed": false,
    "scrolled": true
   },
   "outputs": [],
   "source": [
    "var unknown = div0 / divMinus0; // NaN - не число\n",
    "console.log('Infinity / -Infinity = ' + unknown);"
   ]
  },
  {
   "cell_type": "code",
   "execution_count": null,
   "metadata": {
    "collapsed": false,
    "scrolled": true
   },
   "outputs": [],
   "source": [
    "var eps = Number.EPSILON;  \n",
    "// Свойство Number.EPSILON представляет собой разницу между единицей и \n",
    "//наименьшим значением, большим единицы, которое может быть представлено типом Number\n",
    "console.log('Number.EPSILON = ' + eps);"
   ]
  },
  {
   "cell_type": "markdown",
   "metadata": {},
   "source": [
    "_ненормальность чисел с плавающей точкой_\n",
    "- Иногда могут наблюдаться отклонения при использовании чисел с плавающей точкой\n",
    "- Сравнение чисел с плавающей точкой не может быть выполнена непосредственно с применением операторов эквивалентности  (` == `и` `===)"
   ]
  },
  {
   "cell_type": "code",
   "execution_count": null,
   "metadata": {
    "collapsed": false,
    "scrolled": true
   },
   "outputs": [],
   "source": [
    "console.log('');\n",
    "\n",
    "var a = 0.1,\n",
    "    b = 0.2,\n",
    "    sum = 0.3,\n",
    "    equal = (a + b == sum); // false\n",
    "\n",
    "console.log('a = ' + a);\n",
    "console.log('b = ' + b);\n",
    "console.log('a+b = ' + (a + b));\n",
    "console.log('sum = ' + sum);\n",
    "console.log('sum == a+b? is ' + equal);"
   ]
  },
  {
   "cell_type": "markdown",
   "metadata": {},
   "source": [
    "### Тип булев (логический)\n",
    "- Содержит **два возможных состояния**:\n",
    "  - `true` and `false`\n",
    "- Используется в логических выражениях"
   ]
  },
  {
   "cell_type": "code",
   "execution_count": null,
   "metadata": {
    "collapsed": false,
    "scrolled": true
   },
   "outputs": [],
   "source": [
    "var a = 1;\n",
    "var b = 2;\n",
    "\n",
    "var greaterAB = (a > b);\n",
    "console.log(`1 > 2 ? ${greaterAB}`); // false\n",
    "\n",
    "var equalA1 = (a === 1);\n",
    "console.log(`1 == 1 ? ${equalA1}`); // true\t\n",
    "\n",
    "console.log(true, false);"
   ]
  },
  {
   "cell_type": "markdown",
   "metadata": {},
   "source": [
    "### Строковый тип\n",
    "- Представлен в виде **последовательности символов**\n",
    "- Строки должны быть заклюбчены в кавычки:\n",
    "  - **Оба** `'` , `\"` работают корректно\n",
    "  - **ES6** так же включает <code>`</code> (ticks) для перевода в строчный тип\n",
    "- Строки могут склеиваться\n",
    "  - Используется оператор `+`"
   ]
  },
  {
   "cell_type": "code",
   "execution_count": null,
   "metadata": {
    "collapsed": false,
    "scrolled": true
   },
   "outputs": [],
   "source": [
    "// Различные кавычки могут быть применены для инициализации переменных - двойная, одинарная и обратная\n",
    "var firstName = 'Иван',\n",
    "    middleName = `Федорович`,\n",
    "    lastName = \"Иванов\";\n",
    "    \n",
    "console.log(\"Привет, \" + firstName + \"!\");\n",
    "\n",
    "var fullName = lastName + ' ' + firstName + ' ' + middleName;\n",
    "console.log('Ваше полное имя ' + fullName); // create a string using concatenation\n",
    "console.log(`Ваше полное имя ${fullName}`); // create a string using string interpolation\n",
    "\n",
    "console.log(`Сумма 123, 456 и 879 ${123 + 456 + 879}`);\n",
    "\n",
    "var asSalamuAlaykum = 'السلام عليكم';\n",
    "console.log(asSalamuAlaykum);\n",
    "\n",
    "var кирилица = 'Това е на кирилица!';\n",
    "console.log(кирилица);\n",
    "\n",
    "var leafJapanese = '葉'; // Pronounced as 'ha'\n",
    "console.log(leafJapanese);"
   ]
  },
  {
   "cell_type": "markdown",
   "metadata": {},
   "source": [
    "### Приведение численных типов"
   ]
  },
  {
   "cell_type": "code",
   "execution_count": null,
   "metadata": {
    "collapsed": false,
    "scrolled": true
   },
   "outputs": [],
   "source": [
    "var fractionalNumber = 8.75;\n",
    "var truncated = fractionalNumber | 0,\n",
    "    truncated2 = Math.trunc(fractionalNumber);\n",
    "\n",
    "console.log('Дробное число = ' + fractionalNumber);\n",
    "console.log('Разделенное с помощью | = ' + truncated);\n",
    "console.log('Разделенное с помощью Math.trunc = ' + truncated2);\n",
    "\n",
    "fractionalNumber = 8.75;\n",
    "var roundedInt = (fractionalNumber + 0.5) | 0;\n",
    "var rounderInt2 = Math.round(fractionalNumber);\n",
    "\n",
    "console.log('Дробное число = ' + fractionalNumber);\n",
    "console.log('округленное с помощью | = ' + roundedInt);\n",
    "console.log('округленное с помощью Math.round = ' + rounderInt2);"
   ]
  },
  {
   "cell_type": "markdown",
   "metadata": {},
   "source": [
    "### Конвертация строки в число"
   ]
  },
  {
   "cell_type": "code",
   "execution_count": null,
   "metadata": {
    "collapsed": false,
    "scrolled": true
   },
   "outputs": [],
   "source": [
    "var numAsString = '1234';\n",
    "\n",
    "console.log(parseInt(numAsString) + 1);\n",
    "console.log(parseFloat(numAsString) + 1);\n",
    "console.log(+numAsString + 1);\n",
    "console.log(numAsString * 1 + 1);\n",
    "console.log((numAsString | 0) + 1);\n",
    "console.log(Number(numAsString) + 1)"
   ]
  },
  {
   "cell_type": "code",
   "execution_count": null,
   "metadata": {
    "collapsed": false,
    "scrolled": true
   },
   "outputs": [],
   "source": [
    "var invalidNumString = '435javascript';\n",
    "console.log(parseInt(invalidNumString) + 1); //будет вычеслено как - 435\n",
    "console.log(+invalidNumString); // NaN\n",
    "console.log(Number(invalidNumString)); // NaN"
   ]
  },
  {
   "cell_type": "code",
   "execution_count": null,
   "metadata": {
    "collapsed": false,
    "scrolled": true
   },
   "outputs": [],
   "source": [
    "var fractionString = '3.65';\n",
    "console.log(parseFloat(fractionString) + 1);\n",
    "console.log(Number(fractionString) + 1);\n",
    "console.log(+fractionString + 1);"
   ]
  },
  {
   "cell_type": "markdown",
   "metadata": {},
   "source": [
    "### Undefined (неопределенные) and Null (нулевые) значения\n",
    "\n",
    "JavaScript имеет специальное значение `undefined`, оно означает что переменная не определена (ее не существует в текущем контексте), `undefined` не одно и тоже что и `null`, который представляет нулевое значение."
   ]
  },
  {
   "cell_type": "code",
   "execution_count": null,
   "metadata": {
    "collapsed": false,
    "scrolled": true
   },
   "outputs": [],
   "source": [
    "var x = 5;\n",
    "console.log('x = ' + x + ', typeof(x) = ' + typeof(x));\n",
    "\n",
    "x = 3.14159;\n",
    "console.log('x = ' + x + ', typeof(x) = ' + typeof(x));\n",
    "\n",
    "x = undefined;\n",
    "console.log('x = ' + x + ', typeof(x) = ' + typeof(x));\n",
    "\n",
    "x = null;\n",
    "console.log(`x = ${x}; typeof x = ${typeof x}`);\n",
    "\n",
    "x = 'hello';\n",
    "console.log(`x = ${x}; typeof x = ${typeof x}`);\n",
    "\n",
    "x = new Number(5);\n",
    "console.log(`x = ${x}; typeof x = ${typeof x}`);"
   ]
  },
  {
   "cell_type": "markdown",
   "metadata": {},
   "source": [
    "### Объявление и использование переменных\n",
    "Когда мы декларируем переменную мы\n",
    "- Специфизируем **имя** (идентификатор переменней)\n",
    "- Можем заполнить **инициализирующим значением**\n",
    "\n",
    "```js\n",
    "<var | let | const> <identifier> [= <initialization>];\n",
    "```\n",
    "\n",
    "```js\n",
    "let emptyVariable;\n",
    "var height = 200;\n",
    "let width = 300;\n",
    "const depth = 250;\n",
    "```\n",
    "\n",
    "### Правила именования идентификаторов\n",
    "- Буквы (Unicode)\n",
    "- Цифры [`0`-`9`]\n",
    "- Нижнее подчеркивание '`_`'\n",
    "- Доллар '`$`'\n",
    "- Не могут начинаться с цифр, и быть зарезервированными JavaScript словами\n",
    "- Переменные и названия функций правильно именовать стилем `camelCase`\n",
    "\n",
    "Идентификатор может быть описательными именем, рекомендуется применять латинскую кодировку, JavaScript регистрозависимый язык\n",
    "\n",
    "### Присвоение значений переменным\n",
    "\n",
    "- Присвоение значений переменным производится с помошью оператора `=`\n",
    "- Присвоение может быть каскадным, когда следующая переменная приравнивается к предыдущей\n",
    "- Переменные декларированные `const` не могут быть переопределены дргим значением\n",
    "\n",
    "```js\n",
    "let firstValue = 5;\n",
    "let secondValue;\n",
    "let thirdValue;\n",
    "\n",
    "// Используем уже декларированную переменную:\n",
    "secondValue = firstValue;\n",
    "\n",
    "// Каскадное присваивание\n",
    "\n",
    "thirdValue = firstValue = 3; // Avoid this!\n",
    "```\n",
    "### Инициализация переменных\n",
    "- Знавение должно быть проинициализировано до использования переменной\n",
    "- Может инициализироваться уже проинициализированной переменной\n",
    "- Неициализированные переменные неопределены `undefined`\n",
    "\n",
    "```js\n",
    "\n",
    "let heightInMeters = 1.74;\n",
    "\n",
    "let greeting = 'Hello World!';\n",
    "let message = greeting;\n",
    "\n",
    "const parsedNumber = parseInt('1239') + 1;\n",
    "```\n",
    "\n",
    "### Локальные и глобальные переменные\n",
    "- Локальные переменные могут быть определены с помшью ключевых слов `var`, `let` или `const`\n",
    "    - `var` - время жизни переменной определено в пространстве текущей функции или глобальном пространстве\n",
    "    - `let` - время жизни переменной в текущем пространстве\n",
    "    - `const` - такое же как `let`, но не может быть переопределено\n",
    "- глобальные переменные\n",
    "    - Определяются **без ключевых слов**\n",
    "    - Плохая практика **не делайте так!**\n",
    "\n",
    "```js\n",
    "let a = 5; // a в локальной области видимости\n",
    "a = 'блаблабла'; // так же упонимается здесь\n",
    "```\n",
    "\n",
    "```js\n",
    "a = undefined;\n",
    "a = 5; // то же что и window.a\n",
    "```"
   ]
  },
  {
   "cell_type": "code",
   "execution_count": null,
   "metadata": {
    "collapsed": false,
    "scrolled": true
   },
   "outputs": [],
   "source": [
    "// Не рекомендуется но не приведет к ошибке\n",
    "var New = 2; \n",
    "var _2Pac; \n",
    "\n",
    "var greeting = \"Hello\";\n",
    "var n = 100; \n",
    "\n",
    "//const numberOfClients = 100; \n",
    "\n",
    "var numberOfPrivateClientOfTheFirm = 100;\n",
    "\n",
    "// Вызовет ошибку\n",
    "// numberOfClients = 200; // не может быть использовано для переменной типа const\n",
    "// numberOfClients += 10; // не может быть использовано для переменной типа const\n",
    "\n",
    "imGlobalVariable = 'Such global, much famous'; // глобальные переменые вызывают ошибку при использовании 'use strict'\n",
    "\n",
    "// let 2Pac = '2Pac'; // invalid identifier\n"
   ]
  },
  {
   "cell_type": "code",
   "execution_count": null,
   "metadata": {
    "collapsed": true
   },
   "outputs": [],
   "source": []
  }
 ],
 "metadata": {
  "kernelspec": {
   "display_name": "Javascript (Node.js)",
   "language": "javascript",
   "name": "javascript"
  },
  "language_info": {
   "file_extension": ".js",
   "mimetype": "application/javascript",
   "name": "javascript",
   "version": "7.9.0"
  }
 },
 "nbformat": 4,
 "nbformat_minor": 2
}
