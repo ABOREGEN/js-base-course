{
 "cells": [
  {
   "cell_type": "markdown",
   "metadata": {},
   "source": [
    "# Массивы\n",
    "## Обработка последовательностей элементов\n",
    "\n",
    "### Что такое массив?\n",
    "- **массив** это последовательность элементов\n",
    "  - Порядок следования элементов фиксирован\n",
    "  - Не имеют фиксированного размера\n",
    "    - Можно получить текущий размер (`Array.length`)\n",
    "\n",
    "<img class=\"slide-image\" src=\"http://www.picshare.ru/uploads/170221/1x3jd8z0u7.png\" style=\"width: 400px; left: 23%\" />\n",
    "\n",
    "- Массив из 5 элементов\n",
    "- Индекс элемента - 3 `array[3]`\n",
    "- Елемент массива передан в переменную `let a = array[3]`"
   ]
  },
  {
   "cell_type": "markdown",
   "metadata": {},
   "source": [
    "### Обьявление массива\n",
    "\n",
    "```js\n",
    "// Массив хранящий цифры\n",
    "var numbers = [1, 2, 3, 4, 5];\n",
    "\n",
    "// Массив хранящий строки\n",
    "var weekDays = ['Понедельник', 'Вторник', 'Среда',\n",
    "  'Четверг', 'Пятница', 'Суббота', 'Воскресенье']\n",
    "\n",
    "// Массив хранящий различные типы\n",
    "var mixedArr = [1, new Date(), 'привет'];\n",
    "\n",
    "// Массив массивов (матрица)\n",
    "var matrix = [\n",
    "  ['0,0', '0,1', '0,2'],\n",
    "  ['1,0', '1,1', '1,2'],\n",
    "  ['2,0', '2,1', '2,2']];\n",
    "```\n",
    "\n",
    "- Проинициализировать массив в JavaScript можно тремя способами:\n",
    "  - Используя `new Array(elements)`:\n",
    "\n",
    "    ```js\n",
    "    var arr = new Array(1, 2, 3, 4, 5);\n",
    "    ```\n",
    "\n",
    "  - Используя `new Array(initialLength)`:\n",
    "\n",
    "    ```js\n",
    "    var arr = new Array(10);\n",
    "    ```\n",
    "\n",
    "  - Используя `литерал массив` (рекомендуется):\n",
    "\n",
    "    ```js\n",
    "    var arr = [1, 2, 3, 4, 5];\n",
    "    ```"
   ]
  },
  {
   "cell_type": "code",
   "execution_count": 1,
   "metadata": {
    "collapsed": false
   },
   "outputs": [
    {
     "name": "stdout",
     "output_type": "stream",
     "text": [
      "arr = 1, 2, 3, 4, 5\n",
      "arr2 = , , , , , , , , , \n",
      "arr2[2] = undefined\n",
      "weekDays = Понедельник, Вторник, Среда, Четверг, Пятница, Суббота, Воскресенье\n",
      "mixedArr = 1, Tue Feb 21 2017 23:00:03 GMT+0300 (Russia TZ 2 Standard Time), hello\n"
     ]
    },
    {
     "data": {
      "text/plain": [
       "undefined"
      ]
     },
     "execution_count": 1,
     "metadata": {},
     "output_type": "execute_result"
    }
   ],
   "source": [
    "var arr,\n",
    "    arr2,\n",
    "    weekDays,\n",
    "    mixedArr;\n",
    "\n",
    "arr = new Array(1, 2, 3, 4, 5);\n",
    "console.log('arr = ' + arr.join(', '));\n",
    "\n",
    "arr2 = new Array(10);\n",
    "console.log('arr2 = ' + arr2.join(', '));\n",
    "console.log('arr2[2] = ' + arr2[2]);\n",
    "\n",
    "weekDays = ['Понедельник', 'Вторник', 'Среда','Четверг', 'Пятница', 'Суббота', 'Воскресенье']\n",
    "console.log('weekDays = ' + weekDays.join(', '));\n",
    "\n",
    "mixedArr = [1, new Date(), 'hello'];\n",
    "console.log('mixedArr = ' + mixedArr.join(', '));"
   ]
  },
  {
   "cell_type": "markdown",
   "metadata": {},
   "source": [
    "### Перевернуть массив"
   ]
  },
  {
   "cell_type": "code",
   "execution_count": 2,
   "metadata": {
    "collapsed": false
   },
   "outputs": [
    {
     "name": "stdout",
     "output_type": "stream",
     "text": [
      "array = [1, 2, 3, 4, 5]\n",
      "reversed = [5, 4, 3, 2, 1]\n"
     ]
    },
    {
     "data": {
      "text/plain": [
       "undefined"
      ]
     },
     "execution_count": 2,
     "metadata": {},
     "output_type": "execute_result"
    }
   ],
   "source": [
    "var array,\n",
    "    length,\n",
    "    reversed,\n",
    "    index;\n",
    "\n",
    "array = [1, 2, 3, 4, 5];\n",
    "\n",
    "// Get array size\n",
    "length = array.length;\n",
    "\n",
    "// Declare and create the reversed array\n",
    "reversed = new Array(length);\n",
    "\n",
    "// Initialize the reversed array\n",
    "for (index = 0; index < length; index++) {\n",
    "    reversed[length - index - 1] = array[index];\n",
    "}\n",
    "\n",
    "console.log('array = [' + array.join(', ') + ']');\n",
    "console.log('reversed = [' + reversed.join(', ') + ']');"
   ]
  },
  {
   "cell_type": "markdown",
   "metadata": {},
   "source": [
    "### Как получить доступ к элементам массива?\n",
    "\n",
    "- Получить доступ к элементу массива можно с помошью **индексного оператора**: `[]` (квадратные скобки)\n",
    "  - Индекс массива может быть в диапазоне `[0; length-1]`\n",
    "  - Первый элемент массива `0`\n",
    "  - Последний элемент массива `length-1`\n",
    "- Массив элементов может быть сброшен или обновлен так -  `[]` (индексный оператор)"
   ]
  },
  {
   "cell_type": "code",
   "execution_count": 2,
   "metadata": {
    "collapsed": false
   },
   "outputs": [
    {
     "name": "stdout",
     "output_type": "stream",
     "text": [
      "Sofia\n",
      "Washington\n",
      "London\n",
      "Paris\n"
     ]
    },
    {
     "data": {
      "text/plain": [
       "undefined"
      ]
     },
     "execution_count": 2,
     "metadata": {},
     "output_type": "execute_result"
    }
   ],
   "source": [
    "var i, \n",
    "    capitals = ['Sofia', 'Washington', 'London', 'Paris'];\n",
    "\n",
    "for (i in capitals) {\n",
    "   console.log(capitals[i]);\n",
    "}"
   ]
  },
  {
   "cell_type": "markdown",
   "metadata": {},
   "source": [
    "### Проход по массиву с помошью конструкции `for`\n",
    "- Используйте `for` для прохода по массиву, если Вам надо контролировать доступ к членам массива\n",
    "- В теле цикла используйте индекс по которому осуществляется доступ к элементу (`array[index]`):\n",
    "\n",
    "```js\n",
    "var i, len;\n",
    "for (i = 0, len = array.length; i < len; i += 1) {\n",
    "   squares[i] = array[i] * array[i];\n",
    "}\n",
    "```\n",
    "- Распечатать элементы массива в обратном порядке:\n",
    "\n",
    "```js\n",
    "var arr, i, len;\n",
    "arr = [1, 2, 3, 4, 5];\n",
    "for (len = arr.length, i = len - 1; i >= 0; i -= 1) {\n",
    "    console.log(arr[i]);\n",
    "}\n",
    "// Результат: 5 4 3 2 1\n",
    "```\n",
    "\n",
    "- Проинициализировать все элементы массива их индексом:\n",
    "\n",
    "```js\n",
    "var i, len\n",
    "for (i = 0, len = array.length; i < len; i += 1) {\n",
    "    array[i] = i;\n",
    "}\n",
    "```\n",
    "\n",
    "### Проход по массиву с помошью цикла `for-in`\n",
    "- Как работает цикл `for-in`?\n",
    "  - `index` интерация происходит по индексам всего массива\n",
    "- Используйте, когда индексы неизвестны\n",
    "  - Доступ ко всем элементам осуществляется последовательно\n",
    "  - Порядок не гарантируется\n",
    "  - Подходит для работы с объектами\n",
    "\n",
    "```js\n",
    "var index;\n",
    "for (index in array) {\n",
    "  // ваш код\n",
    "}\n",
    "```\n",
    "\n",
    "- Вывести построчно все элементы массива:\n",
    "\n",
    "```js\n",
    "var capitals, i;\n",
    "capitals = [\n",
    "    'Sofia',\n",
    "    'Washington',\n",
    "    'London',\n",
    "    'Paris'\n",
    "];\n",
    "\n",
    "for (i in capitals) {\n",
    "    console.log(capitals[i]);\n",
    "}\n",
    "```"
   ]
  },
  {
   "cell_type": "markdown",
   "metadata": {},
   "source": [
    "### Добавлене и удаление элементов из массива\n",
    "\n",
    "- Все массивы в JavaScript являются **динамическими**\n",
    "  - Их размер может меняться в процессе выполнения программы\n",
    "  - В массив могут быть добавлены новые элементы\n",
    "  - Из массива могут быть удалены любые элементы\n",
    "\n",
    "- `Array#push(element)`\n",
    "  - **Добавляет** новый элемент в  **конец** массива\n",
    "- `Array#pop()`\n",
    "  - **Удаляет** элемент из **конца** массива\n",
    "  - **Возвращает** удаленный элемент\n",
    "\n",
    "- `Array#unshift(element)`\n",
    "  - **Добавляет** новый элемент в **начало** массива\n",
    "- `Array#shift()`\n",
    "  - **Удаляет** элемент из **начала** массива\n",
    "  - **Возвращает** удаленный элемент"
   ]
  },
  {
   "cell_type": "code",
   "execution_count": 3,
   "metadata": {
    "collapsed": false
   },
   "outputs": [
    {
     "name": "stdout",
     "output_type": "stream",
     "text": [
      "1|2|3|4|5\n",
      "Удалить: 5\n",
      "1|2|3|4\n",
      "Добавить 0 в начало массива (голову)\n",
      "0|1|2|3|4\n",
      "Удалить: 0\n",
      "1|2|3|4\n"
     ]
    },
    {
     "data": {
      "text/plain": [
       "undefined"
      ]
     },
     "execution_count": 3,
     "metadata": {},
     "output_type": "execute_result"
    }
   ],
   "source": [
    "var tail,\n",
    "    head,\n",
    "    numbers = [1, 2, 3, 4, 5];\n",
    "console.log(numbers.join('|')); // result: 1|2|3|4|5\n",
    "\n",
    "tail = numbers.pop();               // tail = 5;\n",
    "console.log('Удалить: ' + tail);\n",
    "console.log(numbers.join('|')); // result: 1|2|3|4\n",
    "\n",
    "numbers.unshift(0);\n",
    "console.log('Добавить 0 в начало массива (голову)');\n",
    "console.log(numbers.join('|')); // result: 0|1|2|3|4\n",
    "\n",
    "head = numbers.shift();         // head=0;\n",
    "console.log('Удалить: ' + head);\n",
    "console.log(numbers.join('|')); // result: 1|2|3|4"
   ]
  },
  {
   "cell_type": "markdown",
   "metadata": {},
   "source": [
    "### Сортировка массивов"
   ]
  },
  {
   "cell_type": "code",
   "execution_count": 4,
   "metadata": {
    "collapsed": false
   },
   "outputs": [
    {
     "name": "stdout",
     "output_type": "stream",
     "text": [
      "2, 23, 4, 5\n",
      "2, 4, 5, 23\n"
     ]
    },
    {
     "data": {
      "text/plain": [
       "undefined"
      ]
     },
     "execution_count": 4,
     "metadata": {},
     "output_type": "execute_result"
    }
   ],
   "source": [
    "var numbers = [5, 4, 23, 2];\n",
    "\n",
    "function orderBy(a, b) {\n",
    "    //return (a == b) ? 0 : (a > b) ? 1 : -1;\n",
    "    return a - b;\n",
    "};\n",
    "\n",
    "numbers.sort();\n",
    "console.log(numbers.join(', '));\n",
    "\n",
    "numbers.sort(orderBy);\n",
    "console.log(numbers.join(', '));\n",
    "//returns 2, 4, 5, 23 "
   ]
  },
  {
   "cell_type": "markdown",
   "metadata": {},
   "source": [
    "### Методы массива\n",
    "\n",
    "- `Array#reverse()`\n",
    "  - **Переворачивает** порядок элементов в массива\n",
    "  - **Возвращает** новый массив\n",
    "\n",
    "  ```js\n",
    "  var items = [1, 2, 3, 4, 5, 6];\n",
    "  var reversed = items.reverse();\n",
    "  //reversed = [6, 5, 4, 3, 2, 1]\n",
    "  ```\n",
    "\n",
    "- `Array#join(separator)`\n",
    "  - **Поэлементная конкатенацияs** всех элементов через разделитель\n",
    "  - **Возвращает** строку\n",
    "\n",
    "  ```js\n",
    "  var names = [\"John\", \"Jane\", \"George\", \"Helen\"];\n",
    "  var namesString = names.join(\", \");\n",
    "  //namesString = \"John, Jane, George, Helen\"\n",
    "  ```\n",
    "\n",
    "### Конкатенация массивов\n",
    "- `arr1.concat(arr2)`\n",
    "  - **Добавляет** элементы массива `arr2` в **конец** массива `arr1`\n",
    "  - **Возвращает** новый массив\n",
    "  - `arr1` и `arr2` остаются неизмененными!\n",
    "\n",
    "  ```js\n",
    "  var arr1 = [1, 2, 3];\n",
    "  var arr2 = [\"one\", \"two\", \"three\"];\n",
    "  var result = arr1.concat(arr2);\n",
    "  //result = [1, 2, 3, \"one\", \"two\", \"three\"]\n",
    "  ```\n",
    "\n",
    "- Добавление элементов одного массива к другому массиву\n",
    "\n",
    "  ```js\n",
    "  var arr1 = [1, 2, 3];\n",
    "  var arr2 = [\"one\", \"two\", \"three\"];\n",
    "  [].push.apply(arr1, arr2);\n",
    "  //arr1 = [1, 2, 3, \"one\", \"two\", \"three\"]\n",
    "  ```\n",
    "\n",
    "### Получение части массива\n",
    "- `Array#slice(fromIndex [, toIndex])`\n",
    "  - **Возвращает новый массив**\n",
    "    - Неполную копию части массива\n",
    "  - Новый массив содержит элементы с `fromIndex` до `to` (исключая `toIndex`)\n",
    "  - Может быть применимо для клонирования массива\n",
    "\n",
    "  ```js\n",
    "  var items = [1, 2, 3, 4, 5];\n",
    "  var part = items.slice(1, 3);\n",
    "  //part = [2, 3]\n",
    "  var clonedItems = items.slice();\n",
    "  ```\n",
    "\n",
    "### Вставка в массив\n",
    "\n",
    "- `Array#splice(index, count, elements)`\n",
    "  - Удаляет `count` элементов, начиная с `index` позиции\n",
    "  - Добавляет `elements` с позиции `index`\n",
    "  - Возвращает новый массив содержащий удаленные индексы\n",
    "\n",
    "  ```js\n",
    "  var numbers = [1, 2, 3, 4, 5, 6, 7];\n",
    "  var result = numbers.splice(3, 2, \"four\", \"five\", \"five.five\");\n",
    "  //result = [4, 5]\n",
    "  //numbers = [1, 2, 3, \"four\", \"five\", \"five.five\", 6, 7];\n",
    "  ```\n",
    "\n",
    "- Удаление элементов по индексу из массива:\n",
    "\n",
    "  ```js\n",
    "  //удалить один элемент с позиции `index`\n",
    "  items.splice(index, 1);\n",
    "  //удаляет count элементов начиная с позиции index\n",
    "  items.splice(index, count);\n",
    "  ```\n",
    "\n",
    "-  Добавить элемент по индексу в массив:\n",
    "\n",
    "  ```js\n",
    "  //Добавляет один элементт в позицию index\n",
    "  items.splice(index, 0, element);\n",
    "  //добавляет несколько элементов начиная с позиции index\n",
    "  items.splice(index, 0, item1, item2, item3);\n",
    "  ```\n",
    "\n",
    "### Поиск в массиве\n",
    "\n",
    "- `Array#indexOf(element [, rightOf])`\n",
    "  - Возвращает индекс первого вхождения искомого значения в массиве\n",
    "  - Возвращает `-1` если элемент не найден\n",
    "- `Array#lastIndexOf(element, [leftOf])`\n",
    "  - Возвращает индекс последнего вхождения искомого значения в массиве\n",
    "  - Возвращает `-1` если элемент не найден\n",
    "- `Array#indexOf()` и `Array#lastIndexOf()` работают в большинстве браузеров"
   ]
  },
  {
   "cell_type": "markdown",
   "metadata": {},
   "source": [
    "### Другие функции"
   ]
  },
  {
   "cell_type": "code",
   "execution_count": 5,
   "metadata": {
    "collapsed": false
   },
   "outputs": [
    {
     "name": "stdout",
     "output_type": "stream",
     "text": [
      "[5, 4, 23, 2].reverse()\n",
      "2, 23, 4, 5, "
     ]
    },
    {
     "data": {
      "text/plain": [
       "undefined"
      ]
     },
     "execution_count": 5,
     "metadata": {},
     "output_type": "execute_result"
    }
   ],
   "source": [
    "var reversed,\n",
    "    numbers2,\n",
    "    allNumbers,\n",
    "    deleted,\n",
    "    i,\n",
    "    even,\n",
    "    numbers = [5, 4, 23, 2];\n",
    "\n",
    "reversed = numbers.reverse();\n",
    "\n",
    "console.log('[5, 4, 23, 2].reverse()');\n",
    "reversed.forEach(function (item) {\n",
    "    process.stdout.write(item + \", \");\n",
    "});"
   ]
  },
  {
   "cell_type": "code",
   "execution_count": 6,
   "metadata": {
    "collapsed": false
   },
   "outputs": [
    {
     "name": "stdout",
     "output_type": "stream",
     "text": [
      "[5, 4, 23, 2].concat([1, 2, 3, 4, 5, 6]):\n",
      "2, 23, 4, 5, 1, 2, 3, 4, 5, 6, numbers: 2,23,4,5\n",
      "Удалить после [5, 4, 23, 2].splice(0, 2, \"one\", \"two\", \"three\"): \n",
      "Элементы удалены: 2, 23\n",
      "Чисел после: one, two, three, 4, 5\n"
     ]
    },
    {
     "data": {
      "text/plain": [
       "undefined"
      ]
     },
     "execution_count": 6,
     "metadata": {},
     "output_type": "execute_result"
    }
   ],
   "source": [
    "numbers2 = [1, 2, 3, 4, 5, 6];\n",
    "\n",
    "console.log('[5, 4, 23, 2].concat([1, 2, 3, 4, 5, 6]):');\n",
    "\n",
    "allNumbers = numbers.concat(numbers2);\n",
    "allNumbers.forEach(function (item) {\n",
    "    process.stdout.write(item + \", \");\n",
    "});\n",
    "\n",
    "console.log('numbers: ' + numbers);\n",
    "deleted = numbers.splice(0, 2, 'one', 'two', 'three');\n",
    "\n",
    "console.log('Удалить после [5, 4, 23, 2].splice(0, 2, \"one\", \"two\", \"three\"): ');\n",
    "console.log('Элементы удалены: ' + deleted.join(', '));\n",
    "console.log('Чисел после: ' + numbers.join(', '));"
   ]
  },
  {
   "cell_type": "code",
   "execution_count": 7,
   "metadata": {
    "collapsed": false
   },
   "outputs": [
    {
     "name": "stdout",
     "output_type": "stream",
     "text": [
      "После [1, 2, ...., 18, 19].filter(item%2==0):\n",
      "0, 2, 4, 6, 8, 10, 12, 14, 16, 18\n"
     ]
    },
    {
     "data": {
      "text/plain": [
       "undefined"
      ]
     },
     "execution_count": 7,
     "metadata": {},
     "output_type": "execute_result"
    }
   ],
   "source": [
    "allNumbers = new Array();\n",
    "for (i = 0; i < 20; i++) {\n",
    "    allNumbers.push(i);\n",
    "}\n",
    "\n",
    "even = allNumbers.filter(function (item) {\n",
    "    return item % 2 == 0;\n",
    "});\n",
    "\n",
    "console.log('После [1, 2, ...., 18, 19].filter(item%2==0):');\n",
    "console.log(even.join(', '));"
   ]
  },
  {
   "cell_type": "code",
   "execution_count": null,
   "metadata": {
    "collapsed": true
   },
   "outputs": [],
   "source": []
  }
 ],
 "metadata": {
  "kernelspec": {
   "display_name": "Javascript (Node.js)",
   "language": "javascript",
   "name": "javascript"
  },
  "language_info": {
   "file_extension": ".js",
   "mimetype": "application/javascript",
   "name": "javascript",
   "version": "7.5.0"
  }
 },
 "nbformat": 4,
 "nbformat_minor": 2
}
