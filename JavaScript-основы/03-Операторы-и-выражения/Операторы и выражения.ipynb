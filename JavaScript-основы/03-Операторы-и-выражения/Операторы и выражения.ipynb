{
 "cells": [
  {
   "cell_type": "markdown",
   "metadata": {},
   "source": [
    "# Операторы и выражения\n",
    "\n",
    "### Что такое оператор?\n",
    "- Оператор это символ который представляется как  **видь операции над данными** в процессе выполнения\n",
    "  - Требует **один или больше аргументов** (операндов)\n",
    "  - Вычисляет **новое значение**\n",
    "- **Операторы имеют приоритет**\n",
    "- Выражения представляют собой последовательности операндов и операторов которые вычисляют определенное значение\n",
    "\n",
    "### Операторы в JavaScript\n",
    "- Бывают:\n",
    "  - **Унарные** – требует один операнд\n",
    "  - **Бинарные** – требует два операнда\n",
    "  - **Тернарные** (`?:`) – требует три операнда\n",
    "- За исключением операторов присваивания, все операторы лево-ассоциативные\n",
    "- Операторы присваивания и условный оператор являются право-ассоциативными\n",
    "\n",
    "### Категории операторов в JavaScript\n",
    "\n",
    "|        Категория     |                                  Операторы                                    |\n",
    "|:-------------------- |:----------------------------------------------------------------------------- |\n",
    "| Арифметические       | `+` `-` `*` `/` `%` `++` `--`                                                 |\n",
    "| Логические           | `&&` <code>&#124;&#124;</code> `^` `!`                                        |\n",
    "| Бинарные             | `&` <code>&#124;</code> `^` `~` `<<` `>>` `>>>`                               |\n",
    "| Сравнения            | `==` `!=` `<` `>` `<=` `>=` `===` `!==`                                       |\n",
    "| Присваивания         | `=` `+=` `-=` `*=` `/=` `%=` <code>&#124;=</code> `^=` `<<=` `>>=`            |\n",
    "| Конкатенации         | `+`                                                                           |\n",
    "| Другие               | `.` `[]` `()` `?:` `new` `in` `,` `delete` `void` `typeof` `instanceof` `...` |\n",
    "\n",
    "### Арифметические операторы\n",
    "- Арифметические операторы `+`, `-`, `*`, `/` такие же как в математике\n",
    "\t- Оператор деления `/` возвращает числ или `Infinity` или `NaN`\n",
    "\t- Деление в JavaScript возвращает число с плавающей точкой (i.e. 5 / 2 = 2.5)\n",
    "- Оператор остатка `%` возвращает остаток от деления на число\n",
    "- Оператор инкремента `++` увеличивает (когда как `--` уменьшает)  на единицу число хранимое в переменной"
   ]
  },
  {
   "cell_type": "code",
   "execution_count": 5,
   "metadata": {
    "collapsed": false
   },
   "outputs": [
    {
     "name": "stdout",
     "output_type": "stream",
     "text": [
      "4.25\n",
      "18.0625\n",
      "9\n",
      "9\n",
      "10\n",
      "11\n",
      "11\n"
     ]
    },
    {
     "data": {
      "text/plain": [
       "undefined"
      ]
     },
     "execution_count": 5,
     "metadata": {},
     "output_type": "execute_result"
    }
   ],
   "source": [
    "var squarePerimeter = 17;\n",
    "var squareSide = squarePerimeter / 4;\n",
    "var squareArea = squareSide * squareSide;\n",
    "\n",
    "console.log(squareSide); // 4.25\n",
    "console.log(squareArea); // 18.0625\n",
    "\n",
    "var a = 5;\n",
    "var b = 4;\n",
    "\n",
    "console.log(a + b); // 9\n",
    "console.log(a + b++); // 9\n",
    "console.log(a + b); // 10\n",
    "console.log(a + (++b)); // 11\n",
    "console.log(a + b); // 11"
   ]
  },
  {
   "cell_type": "code",
   "execution_count": 9,
   "metadata": {
    "collapsed": false
   },
   "outputs": [
    {
     "name": "stdout",
     "output_type": "stream",
     "text": [
      "11.0 / 3 = 3.6666666666666665\n",
      "11 / 3.0 = 3.6666666666666665\n",
      "11 % 3 = 2\n",
      "11 % -3 = 2\n",
      "-11 % 3 = -2\n",
      "1.5 / 0.0 = Infinity\n",
      "-1.5 / 0.0 = -Infinity\n",
      "0.0 / 0.0 = NaN\n",
      "true / 2 = 0.5\n",
      "\"1\" / 2 = 0.5\n",
      "\"as\" / 2 = NaN\n",
      "Infinity\n"
     ]
    },
    {
     "data": {
      "text/plain": [
       "undefined"
      ]
     },
     "execution_count": 9,
     "metadata": {},
     "output_type": "execute_result"
    }
   ],
   "source": [
    "console.log('11.0 / 3 = ' + (11.0 / 3)); // 3.666666667\n",
    "console.log('11 / 3.0 = ' + (11 / 3.0)); // 3.666666667\n",
    "console.log('11 % 3 = ' + (11 % 3));   // 2\n",
    "console.log('11 % -3 = ' + (11 % -3));  // 2\n",
    "console.log('-11 % 3 = ' + (-11 % 3));  // -2'\n",
    "console.log('1.5 / 0.0 = ' + (1.5 / 0.0));  // Infinity\n",
    "console.log('-1.5 / 0.0 = ' + (-1.5 / 0.0)); // -Infinity\n",
    "console.log('0.0 / 0.0 = ' + (0.0 / 0.0));  // NaN\n",
    "console.log('true / 2 = ' + (true / 2));\n",
    "console.log('\"1\" / 2 = ' + ('1' / 2));\n",
    "console.log('\"as\" / 2 = ' + ('as' / 2));\n",
    "\n",
    "var x = 0;\n",
    "console.log(5 / x);"
   ]
  },
  {
   "cell_type": "markdown",
   "metadata": {},
   "source": [
    "### Логические операторы\n",
    "- Логические операторы принимают булевы значения и возвращают булевы значения\n",
    "- Оператор `!` инваертирует `true` до `false` и `false` до `true`\n",
    "- Операторы сравнения `&&`, `||` и `^` (`1` == `true`, `0` == `false`) :"
   ]
  },
  {
   "cell_type": "code",
   "execution_count": 10,
   "metadata": {
    "collapsed": false
   },
   "outputs": [
    {
     "name": "stdout",
     "output_type": "stream",
     "text": [
      "a && b = false\n",
      "a || b = true\n",
      "a ^ b = 1\n",
      "!b = true\n",
      "b || true = true\n",
      "b && true = false\n",
      "a || true = true\n",
      "a && true = true\n",
      "!a = false\n",
      "(5 > 7) ^ (a == b) = 0\n"
     ]
    },
    {
     "data": {
      "text/plain": [
       "undefined"
      ]
     },
     "execution_count": 10,
     "metadata": {},
     "output_type": "execute_result"
    }
   ],
   "source": [
    "var a = true;\n",
    "var b = false;\n",
    "\n",
    "console.log('a && b = ' + (a && b)); // false\n",
    "console.log('a || b = ' + (a || b)); // true\n",
    "console.log('a ^ b = ' + (a ^ b)); // 1\t  !!!!!!\n",
    "console.log('!b = ' + !b); // true\n",
    "console.log('b || true = ' + (b || true)); // true\n",
    "console.log('b && true = ' + (b && true)); // false\n",
    "console.log('a || true = ' + (a || true)); // true\n",
    "console.log('a && true = ' + (a && true)); // true\n",
    "console.log('!a = ' + !a); // false\n",
    "console.log('(5 > 7) ^ (a == b) = ' + ((5 > 7) ^ (a === b))); // 0"
   ]
  },
  {
   "cell_type": "markdown",
   "metadata": {},
   "source": [
    "### `true`-подобные и `false`-подобные значения\n",
    "- JavaScript, слабо типизированный язык, может использоваться любое значение,такое как `true` или `false`\n",
    "- Любое значение может быть приведено к логическому с применением оператора приведения - `!!`"
   ]
  },
  {
   "cell_type": "code",
   "execution_count": 20,
   "metadata": {
    "collapsed": false
   },
   "outputs": [
    {
     "name": "stdout",
     "output_type": "stream",
     "text": [
      "false true false true true false true true false false\n"
     ]
    },
    {
     "data": {
      "text/plain": [
       "undefined"
      ]
     },
     "execution_count": 20,
     "metadata": {},
     "output_type": "execute_result"
    }
   ],
   "source": [
    "console.log(\n",
    "  !!'', // пустая строка false\n",
    "  !!'0', // не пустая строка true\n",
    "  !!0, // ноль false\n",
    "  !!35, // не нулевое число true\n",
    "  !![], // обьект true\n",
    "  !!NaN, // NaN  false\n",
    "  !!'true', // true\n",
    "  !!'false', // true,\n",
    "  !!null, // любое нулевое и неопределенное false\n",
    "  !!undefined\n",
    ");"
   ]
  },
  {
   "cell_type": "markdown",
   "metadata": {},
   "source": [
    "### Битовые операторы\n",
    "- Битовые операторы используют числовые значения. Они применяются побитово.\n",
    "- Оператор `~` переводит `0` к `1` и `1` к `0`\n",
    "  - Подобно `!` как в булевах применяется побитово\n",
    "- Операторы `|`, `&` и `^` так же как и `||`, `&&` и `^` в булевах только побитово\n",
    "- `<<` и `>>` сдвигают (перемещают) биты в лево или вправо"
   ]
  },
  {
   "cell_type": "code",
   "execution_count": 21,
   "metadata": {
    "collapsed": false
   },
   "outputs": [
    {
     "name": "stdout",
     "output_type": "stream",
     "text": [
      "Bitwise operators with integers:\n",
      "a = {a}, b = 5\n",
      "a | b  = 7 - > 111\n",
      "a & b  = 1 - > 1\n",
      "a ^ b  = 6 - > 110\n",
      "~a & b = 4 - > 100\n",
      "a << 1 = 6 - > 110\n",
      "a >> 1 = 1 - > 1\n"
     ]
    },
    {
     "data": {
      "text/plain": [
       "undefined"
      ]
     },
     "execution_count": 21,
     "metadata": {},
     "output_type": "execute_result"
    }
   ],
   "source": [
    "console.log('Bitwise operators with integers:');\n",
    "var a = 3;                // 00000000 00000011\n",
    "var b = 5;                // 00000000 00000101\n",
    "\n",
    "console.log(`a = {a}, b = ${b}`);\n",
    "\n",
    "console.log('a | b  = ' + (a | b) + ' - > ' + (a | b).toString(2));   // 00000000 00000111\n",
    "console.log('a & b  = ' + (a & b) + ' - > ' + (a & b).toString(2));   // 00000000 00000001\n",
    "console.log('a ^ b  = ' + (a ^ b) + ' - > ' + (a ^ b).toString(2));   // 00000000 00000110\n",
    "console.log('~a & b = ' + (~a & b) + ' - > ' + (~a & b).toString(2));   // 00000000 00000100\n",
    "console.log('a << 1 = ' + (a << 1) + ' - > ' + (a << 1).toString(2));  // 00000000 00000110\n",
    "console.log('a >> 1 = ' + (a >> 1) + ' - > ' + (a >> 1).toString(2));  // 00000000 00000001"
   ]
  },
  {
   "cell_type": "code",
   "execution_count": 22,
   "metadata": {
    "collapsed": false
   },
   "outputs": [
    {
     "name": "stdout",
     "output_type": "stream",
     "text": [
      "Bitwise operators with floats:\n",
      "f1 = 3.5, f2 = 5.3\n",
      "f1 | f2  = 7 - > 111\n",
      "f1 & f2  = 1 - > 1\n",
      "f1 ^ f2  = 6 - > 110\n",
      "~f1 & f2 = 4 - > 100\n",
      "f1 << 1 = 96 - > 110\n",
      "f1 >> 1 = 0 - > 1\n"
     ]
    },
    {
     "data": {
      "text/plain": [
       "undefined"
      ]
     },
     "execution_count": 22,
     "metadata": {},
     "output_type": "execute_result"
    }
   ],
   "source": [
    "console.log('Bitwise operators with floats:');\n",
    "\n",
    "var f1 = 3.5;\n",
    "var f2 = 5.3;\n",
    "\n",
    "console.log('f1 = ' + f1 + ', f2 = ' + f2);\n",
    "\n",
    "console.log('f1 | f2  = ' + (f1 | f2) + ' - > ' + (f1 | f2).toString(2));   // 00000000 00000111\n",
    "console.log('f1 & f2  = ' + (f1 & f2) + ' - > ' + (f1 & f2).toString(2));   // 00000000 00000001\n",
    "console.log('f1 ^ f2  = ' + (f1 ^ f2) + ' - > ' + (f1 ^ f2).toString(2));   // 00000000 00000110\n",
    "console.log('~f1 & f2 = ' + (~f1 & f2) + ' - > ' + (~f1 & f2).toString(2));   // 00000000 00000100\n",
    "console.log('f1 << 1 = ' + (f1 << f2) + ' - > ' + (f1 << 1).toString(2));  // 00000000 00000110\n",
    "console.log('f1 >> 1 = ' + (f1 >> f2) + ' - > ' + (f1 >> 1).toString(2));  // 00000000 00000001"
   ]
  },
  {
   "cell_type": "code",
   "execution_count": 23,
   "metadata": {
    "collapsed": false
   },
   "outputs": [
    {
     "name": "stdout",
     "output_type": "stream",
     "text": [
      "Bitwise operators with non-number types:\n",
      "~true = -2\n",
      "~false = -1\n",
      "\"~JavaScript\" = -1\n",
      "\"js\" & true = 1\n",
      "\"js\" & true = 1\n"
     ]
    },
    {
     "data": {
      "text/plain": [
       "undefined"
      ]
     },
     "execution_count": 23,
     "metadata": {},
     "output_type": "execute_result"
    }
   ],
   "source": [
    "console.log('Bitwise operators with non-number types:');\n",
    "\n",
    "console.log('~true = ' + ~true);\n",
    "console.log('~false = ' + ~false);\n",
    "console.log('\"~JavaScript\" = ' + ~'JavaScript')\n",
    "console.log('\"js\" & true = ' + ('js' | true))\n",
    "console.log('\"js\" & true = ' + ('js' ^ true))\t"
   ]
  },
  {
   "cell_type": "markdown",
   "metadata": {},
   "source": [
    "### Операторы сравнения\n",
    "- Применяются для сравнения переменных\n",
    "  - `==`, `<`, `>`, `>=`, `<=`, `!=`,`===`,`!==`\n",
    "  - Для определения эквивалентности `===` и `!==` предпочтительны"
   ]
  },
  {
   "cell_type": "code",
   "execution_count": 25,
   "metadata": {
    "collapsed": false
   },
   "outputs": [
    {
     "name": "stdout",
     "output_type": "stream",
     "text": [
      "Regular comparisons: \n",
      "a = 5, b = 4\n",
      "(a >= b)  = true\n",
      "(a != b)  = true\n",
      "(a == b)  = false\n",
      "(a == a)  = true\n",
      "(a != ++b) = false\n",
      "(a > b)   = false\n"
     ]
    },
    {
     "data": {
      "text/plain": [
       "undefined"
      ]
     },
     "execution_count": 25,
     "metadata": {},
     "output_type": "execute_result"
    }
   ],
   "source": [
    "console.log('Regular comparisons: ');\n",
    "var a = 5;\n",
    "var b = 4;\n",
    "\n",
    "console.log('a = ' + a + ', b = ' + b);\n",
    "console.log('(a >= b)  = ' + (a >= b)); // True\n",
    "console.log('(a != b)  = ' + (a != b)); // True\n",
    "console.log('(a == b)  = ' + (a == b)); // False\n",
    "console.log('(a == a)  = ' + (a == a)); // True\n",
    "console.log('(a != ++b) = ' + (a != ++b)); // False\n",
    "console.log('(a > b)   = ' + (a > b));  // False"
   ]
  },
  {
   "cell_type": "code",
   "execution_count": 26,
   "metadata": {
    "collapsed": false
   },
   "outputs": [
    {
     "name": "stdout",
     "output_type": "stream",
     "text": [
      "Special comparisons: \n",
      "0 == 0.0 = true\n",
      "1 == \"1\" =true\n",
      "1 === \"1\" =false\n",
      "0 == \"\" = true\n",
      "0 === \"\" = false\n",
      "false\n"
     ]
    },
    {
     "data": {
      "text/plain": [
       "undefined"
      ]
     },
     "execution_count": 26,
     "metadata": {},
     "output_type": "execute_result"
    }
   ],
   "source": [
    "console.log('Special comparisons: ');\n",
    "var zeroInt = 0;\n",
    "var oneInt = 1;\n",
    "\n",
    "var zeroFloat = 0.0;\n",
    "var oneFloat = 1.0;\n",
    "\n",
    "var emptyStr = '';\n",
    "var oneStr = '1';\n",
    "var str = 'JavaScript';\n",
    "\n",
    "var nullValue = null;\n",
    "var emptyObject = {};\n",
    "\n",
    "console.log('0 == 0.0 = ' + (zeroInt == zeroFloat));\n",
    "console.log('1 == \"1\" =' + (oneInt == oneStr));\n",
    "console.log('1 === \"1\" =' + (oneInt === oneStr));\n",
    "\n",
    "\n",
    "console.log('0 == \"\" = ' + (zeroInt == emptyStr));\n",
    "console.log('0 === \"\" = ' + (zeroInt === emptyStr));\n",
    "\n",
    "console.log(nullValue == emptyStr)\t"
   ]
  },
  {
   "cell_type": "markdown",
   "metadata": {},
   "source": [
    "### Операторы присваивания\n",
    "- присваивают знаение переменной\n",
    "  - `=`, `+=`, `-=`, `|=`, ..."
   ]
  },
  {
   "cell_type": "code",
   "execution_count": 27,
   "metadata": {
    "collapsed": false
   },
   "outputs": [
    {
     "name": "stdout",
     "output_type": "stream",
     "text": [
      "8\n",
      "3\n",
      "7\n",
      "10\n",
      "5\n"
     ]
    },
    {
     "data": {
      "text/plain": [
       "undefined"
      ]
     },
     "execution_count": 27,
     "metadata": {},
     "output_type": "execute_result"
    }
   ],
   "source": [
    "var x = 6;\n",
    "var y = 4;\n",
    "console.log(y *= 2); // 8\n",
    "var z = y = 3; // y=3 and z=3  \n",
    "console.log(z); // 3\n",
    "console.log(x |= 1); // 7\n",
    "console.log(x += 3); // 10\n",
    "console.log(x /= 2); // 5"
   ]
  },
  {
   "cell_type": "markdown",
   "metadata": {},
   "source": [
    "### Другие операторы\n",
    "- Оператор конкатенации строка `+`\n",
    "- Если второй из операндов не является строкой, то он приводится к ней.\n",
    "\n",
    "- Оператор доступа к члену  `.`  используется для доступа к члену объекта\n",
    "- Квадратные скобки `[]` используются как индексы для доступа к члену обьекта или массива\n",
    "- Скобки `(` `)` используются для переобпределения стандартного потока очередности вычислений или вызова функций\n",
    "- Оператор услович `?:` имеет форму\n",
    "  - (if `b`  true то результат `x` иначе результат `y`)\n",
    "-  `new` оператор создания нового объекта\n",
    "-  `typeof` оператор возвращающий тип обьекта"
   ]
  },
  {
   "cell_type": "code",
   "execution_count": 32,
   "metadata": {
    "collapsed": false
   },
   "outputs": [
    {
     "name": "stdout",
     "output_type": "stream",
     "text": [
      "FirstSecond\n",
      "The number is : 5\n"
     ]
    },
    {
     "data": {
      "text/plain": [
       "undefined"
      ]
     },
     "execution_count": 32,
     "metadata": {},
     "output_type": "execute_result"
    }
   ],
   "source": [
    "var first = 'First';\n",
    "var second = 'Second';\n",
    "console.log(first + second); // FirstSecond\n",
    "var output = 'The number is : ';\n",
    "var number = 5;\n",
    "console.log(output + number);\n",
    "// The number is : 5"
   ]
  },
  {
   "cell_type": "code",
   "execution_count": 33,
   "metadata": {
    "collapsed": false
   },
   "outputs": [
    {
     "name": "stdout",
     "output_type": "stream",
     "text": [
      "a > b\n",
      "3\n",
      "4.5\n",
      "number\n",
      "object\n",
      "true\n",
      "false\n"
     ]
    },
    {
     "data": {
      "text/plain": [
       "undefined"
      ]
     },
     "execution_count": 33,
     "metadata": {},
     "output_type": "execute_result"
    }
   ],
   "source": [
    "var a = 6;\n",
    "var b = 4;\n",
    "console.log(a > b ? 'a > b' : 'b >= a'); // a > b\n",
    "var c = b = 3; // b = 3;\n",
    "console.log(c); // 3\n",
    "console.log((a + b) / 2); // 4.5\n",
    "console.log(typeof a); // number\n",
    "console.log(typeof []); // object\n",
    "\n",
    "var num = new Number(6);\n",
    "console.log(num instanceof Number);\n",
    "console.log(6 instanceof Number);"
   ]
  },
  {
   "cell_type": "code",
   "execution_count": 34,
   "metadata": {
    "collapsed": false
   },
   "outputs": [
    {
     "name": "stdout",
     "output_type": "stream",
     "text": [
      "object\n",
      "George 21\n",
      "George 21\n",
      "{ name: 'George', age: 21 }\n",
      "{ name: 'George' }\n"
     ]
    },
    {
     "data": {
      "text/plain": [
       "undefined"
      ]
     },
     "execution_count": 34,
     "metadata": {},
     "output_type": "execute_result"
    }
   ],
   "source": [
    "var person = {};\n",
    "person.name = 'George';\n",
    "person.age = 21;\n",
    "\n",
    "console.log(typeof person);\n",
    "console.log(person.name, person.age);\n",
    "console.log(person['name'], person['age']);\n",
    "console.log(person);\n",
    "\n",
    "delete person.age;\n",
    "\n",
    "console.log(person);"
   ]
  },
  {
   "cell_type": "code",
   "execution_count": null,
   "metadata": {
    "collapsed": true
   },
   "outputs": [],
   "source": []
  }
 ],
 "metadata": {
  "kernelspec": {
   "display_name": "Javascript (Node.js)",
   "language": "javascript",
   "name": "javascript"
  },
  "language_info": {
   "file_extension": ".js",
   "mimetype": "application/javascript",
   "name": "javascript",
   "version": "7.5.0"
  }
 },
 "nbformat": 4,
 "nbformat_minor": 2
}
