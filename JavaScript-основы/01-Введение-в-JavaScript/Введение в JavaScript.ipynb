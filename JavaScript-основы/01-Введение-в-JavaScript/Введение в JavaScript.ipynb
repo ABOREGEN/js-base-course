{
 "cells": [
  {
   "cell_type": "markdown",
   "metadata": {},
   "source": [
    "# JavaScript курс"
   ]
  },
  {
   "cell_type": "markdown",
   "metadata": {},
   "source": [
    "### Введение в мир JS"
   ]
  },
  {
   "cell_type": "markdown",
   "metadata": {},
   "source": [
    "**Dynamic HTML или DHTML** — это способ (подход) создания интерактивного веб-сайта, использующий сочетание статичного языка разметки HTML, встраиваемого (и выполняемого на стороне клиента) скриптового языка JavaScript, CSS (каскадных таблиц стилей) и DOM (объектной модели документа).\n",
    "Он может быть использован для создания приложения в веб-браузере: например для более простой навигации или для придания интерактивности форм. DHTML может быть использован для динамического перетаскивания элементов по экрану. Также он может служить как инструмент для создания основанных на браузере видеоигр.\n",
    "DHTML приложения, которые вполне автономны в браузере, без серверной поддержки, такой как база данных, иногда вынуждены обращаться к Single Page Applications, или SPA.\n",
    "\n",
    "#### DHTML = HTML + CSS + JavaScript\n",
    "\n",
    "- **HTML** - язык разметки, он определяет положение контента на странице, используя различные теги (заголовки, параграфы,листы)\n",
    "- **CSS** - каскадные таблицы стилей. Определяет правила и стили оформления элементов HTML документа (Шрифты, заливку, позицию, отступы, видимость, переходы)\n",
    "- **Javascript** - определяет динамическое поведение на странице, позволяет интерактивно реагировать на действия пользователя в документе:\n",
    "    - Валидация форм\n",
    "    - Изменение структуры HTML элементов на странице\n",
    "    - Выполнение сложных вычислений\n",
    "    - Обмен информацией с удаленным сервером, без перезагрузки страницы\n",
    "    - Графика\n",
    "    В настоящее время активно используется не только на стороне клиента но и на нем часто строится серверная часть приложений. "
   ]
  },
  {
   "cell_type": "markdown",
   "metadata": {},
   "source": [
    "### Возможности языка\n",
    "- подписка на события и их обработка\n",
    "- Манипулировние DOM деревом \n",
    "- Работа с cookies и browser storage\n",
    "- Обработка исключений\n",
    "- Сетевой обмен данными"
   ]
  },
  {
   "cell_type": "markdown",
   "metadata": {
    "collapsed": true
   },
   "source": [
    "### \"Движки\" и особенности\n",
    "\n",
    "Втроен в браузер и зависит от производителя: V8 в Chrome, Chakra в IE, Spidermonkey в Firefox, JavaScriptCore в Safari.\n",
    "\n",
    "- Является объектно-ориентированным языком, только в последней версии использование подхода для работы с объектами соответствует подходу в других языках\n",
    "- Имеет ряд свойств присущих функциональным языкам, позволят использовать функции как объекты первого порядка: передавать как аргументы, возвращать и присваивать переменным\n",
    "- Автоматическое приведение типов\n",
    "- Автоматическая сборка мусора\n",
    "- Анонимные функции\n",
    "- Компилируется в момент исполнения"
   ]
  },
  {
   "cell_type": "markdown",
   "metadata": {},
   "source": [
    "### Первый скрипт\n",
    "\n",
    "\n",
    "```html\n",
    "    <html>\n",
    "        <body>\n",
    "          <scriрt type=\"text/javascript\">\n",
    "            alert('Hello JavaScript!');\n",
    "          </scriрt>\n",
    "        </body>\n",
    "    </html>\n",
    "```"
   ]
  },
  {
   "cell_type": "markdown",
   "metadata": {},
   "source": [
    "### Использование JavaScript на HTML странице\n",
    "\n",
    "Javascript код должен быть заключен в теги:\n",
    "- в ``<head>`` тег ``<script>``\n",
    "- в ``<body>`` тег ``<script>``\n",
    "- Во внешних файлах и импортиорован в документ посредждством указания источника \n",
    "```html\n",
    "<scriрt src=\"scripts.js\" type=\"text/javascript\">\n",
    "<!-- Код размещенный здесь не вызовется -->\n",
    "</scriрt>```"
   ]
  },
  {
   "cell_type": "markdown",
   "metadata": {},
   "source": [
    "### В каких случаях вызывается?\n",
    "\n",
    "- Выполянется во время загрузки страницы или когда браузер запускает событие\n",
    "    - Все инструкции выполняются во время загрузки страницы\n",
    "    - Некоторые операторы определяют функции которые могут быть вызваны позже\n",
    "- Может быть добавлен как обработчик событий через атрибут тегов непосредственно к HTML элементу\n",
    "    - выполняется когда событие вызывается браузером\n",
    "    ```html\n",
    "    <img src=\"logo.gif\" onclick=\"alert('clicked!')\" />\n",
    "    ```"
   ]
  },
  {
   "cell_type": "markdown",
   "metadata": {},
   "source": [
    "### Пример выполнения после возникновения события\n",
    "\n",
    "```html\n",
    "    <html>\n",
    "        <head>\n",
    "            <scriрt type=\"text/javascript\">\n",
    "              function test (message) {\n",
    "                alert(message);\n",
    "              }\n",
    "            </scriрt>\n",
    "        </head>\n",
    "\n",
    "        <body>\n",
    "          <img src=\"logo.gif\"\n",
    "            onclick=\"test('clicked!')\" />\n",
    "        </body>\n",
    "    </html>\n",
    "```"
   ]
  },
  {
   "cell_type": "markdown",
   "metadata": {},
   "source": [
    "### Использование внешних файлов\n",
    "\n",
    "- HTML страница\n",
    "```html\n",
    "<html>\n",
    "    <head>\n",
    "      <scriрt src=\"sample.js\" type=\"text/javascript\">\n",
    "      </scriрt>\n",
    "    </head>\n",
    "    <body>\n",
    "      <button onclick=\"sample()\" value=\"Call JavaScript\n",
    "        function from sample.js\"/>\n",
    "    </body>\n",
    "</html>\n",
    "```\n",
    "- Внешний файл\n",
    "\n",
    "\n",
    "```js\n",
    "function sample() {\n",
    "  alert('Hello from sample.js!')\n",
    "}\n",
    "```"
   ]
  },
  {
   "cell_type": "markdown",
   "metadata": {},
   "source": [
    "### JavaScript синтаксис\n",
    "\n",
    "Очень похож на синтаксис C#\n",
    "- Операторы (+, *, = , !=, &&, ++, ...)\n",
    "- Переменные (не типизируются)\n",
    "- Условия (if, else)\n",
    "- Циклы (for, while)\n",
    "- Массивы (array[] и ассоциативные массивы array['abc'])\n",
    "- Функции (могут возвращать значения)"
   ]
  },
  {
   "cell_type": "markdown",
   "metadata": {},
   "source": [
    "### Стандартные всплывающие диалоговые блоки \n",
    "- Блок ``alert`` имеет кнопку ``[OK]`` - просто показывает уведомление <br>\n",
    "    ```alert(\"Какой то текст\");```\n",
    "- Блок подтверждения ``confirm`` - имееет кнопки ``[OK]`` и ``[Cancel]`` <br>\n",
    "    ```confirm(\"Вы уверены?\");```\n",
    "- Блок ввода - содержит текст поле ввода и значение по умолчанию <br>\n",
    "```prompt (\"введите значение\", 10);```\n"
   ]
  },
  {
   "cell_type": "markdown",
   "metadata": {},
   "source": [
    "### Встроенные обьекты браузера\n",
    "\n",
    "Через эти обьекты Javascript получает доступ к браузеру и содержимому веб страницы\n",
    "- **window** - Верхний уровень DOM дерева, представляет окно браузера\n",
    "- **document** - содержит информацию о текущем загруженном на странице документе\n",
    "- **screen** - Хранит параметры дисплея\n",
    "- **browser** - Содержит информацию о браузере"
   ]
  },
  {
   "cell_type": "markdown",
   "metadata": {},
   "source": [
    "### Объект Math\n",
    "Объект Math позволяет работать с математическими функциями"
   ]
  },
  {
   "cell_type": "code",
   "execution_count": 6,
   "metadata": {
    "collapsed": false
   },
   "outputs": [
    {
     "name": "stdout",
     "output_type": "stream",
     "text": [
      "Random number (1) in range 1..10 --> 10\n",
      "Random number (2) in range 1..10 --> 10\n",
      "Random number (3) in range 1..10 --> 8\n",
      "Random number (4) in range 1..10 --> 3\n",
      "Random number (5) in range 1..10 --> 5\n"
     ]
    },
    {
     "data": {
      "text/plain": [
       "6"
      ]
     },
     "execution_count": 6,
     "metadata": {},
     "output_type": "execute_result"
    }
   ],
   "source": [
    "for (i = 1; i <= 5; i++) {\n",
    "  var x = Math.random();\n",
    "  x = 10 * x + 1;\n",
    "  x = Math.floor(x);\n",
    "  console.log(\n",
    "      \"Random number (\" +\n",
    "      i + \") in range \" +\n",
    "      \"1..10 --> \" + x);\n",
    "}\n",
    "i"
   ]
  },
  {
   "cell_type": "markdown",
   "metadata": {},
   "source": [
    "### Объект Date\n",
    "Объект Date() позволяет работать с календарными функциями"
   ]
  },
  {
   "cell_type": "code",
   "execution_count": 2,
   "metadata": {
    "collapsed": false
   },
   "outputs": [
    {
     "data": {
      "text/plain": [
       "'сейчас Mon Feb 20 2017 21:09:56 GMT+0300 (Russia TZ 2 Standard Time)'"
      ]
     },
     "execution_count": 2,
     "metadata": {},
     "output_type": "execute_result"
    }
   ],
   "source": [
    "var now = Date();\n",
    "var result = \"сейчас \" + now\n",
    "result"
   ]
  },
  {
   "cell_type": "markdown",
   "metadata": {},
   "source": [
    "### Задержка выполнения"
   ]
  },
  {
   "cell_type": "code",
   "execution_count": 7,
   "metadata": {
    "collapsed": false
   },
   "outputs": [
    {
     "name": "stdout",
     "output_type": "stream",
     "text": [
      "Прошло 5 секунд\n"
     ]
    }
   ],
   "source": [
    "function bang() {\n",
    "    console.log(\"Прошло 5 секунд\")\n",
    "}\n",
    "\n",
    "var timer = setTimeout(bang, 5000);"
   ]
  },
  {
   "cell_type": "markdown",
   "metadata": {},
   "source": [
    "#####  ```clearTimeout(timer);``` - останавливает таймер и предотвращает вызов функции"
   ]
  },
  {
   "cell_type": "markdown",
   "metadata": {},
   "source": [
    "### Повтор выполнения через определенные промежутки времени"
   ]
  },
  {
   "cell_type": "code",
   "execution_count": 10,
   "metadata": {
    "collapsed": false
   },
   "outputs": [
    {
     "name": "stdout",
     "output_type": "stream",
     "text": [
      "Прошла 1 секунда\n",
      "Прошла 2 секунда\n",
      "Прошла 3 секунда\n",
      "Прошла 4 секунда\n",
      "Прошла 5 секунда\n"
     ]
    }
   ],
   "source": [
    "let z = 0\n",
    "function bang() {\n",
    "    z++\n",
    "    console.log(\"Прошла \" + z + \" секунда\")\n",
    "}\n",
    "\n",
    "function clear() {\n",
    "    clearInterval(timer);\n",
    "    z = 0;\n",
    "}\n",
    "\n",
    "var timer = setInterval(bang, 1000);\n",
    "// через 5 секунд останавливаем функцию\n",
    "var stop = setTimeout(clear, 5060);"
   ]
  },
  {
   "cell_type": "markdown",
   "metadata": {},
   "source": [
    "### Пример таймера\n",
    "```html\n",
    "<scriрt type=\"text/javascript\">\n",
    "  function timerFunc() {\n",
    "    var now = new Date();\n",
    "    var hour = now.getHours();\n",
    "    var min = now.getMinutes();\n",
    "    var sec = now.getSeconds();\n",
    "    document.getElementById(\"clock\").value =\n",
    "      \"\" + hour + \":\" + min + \":\" + sec;\n",
    "  }\n",
    "  setInterval(timerFunc, 1000);\n",
    "</scriрt>\n",
    "<input type=\"text\" id=\"clock\" />\n",
    "```"
   ]
  },
  {
   "cell_type": "markdown",
   "metadata": {},
   "source": [
    "### Дебажинг\n",
    "- Современные браузеры имеют консоль, в которую вываливается служебная информация и сыпятся ошибки от исполняемых скриптов, ошибки могут отличаться в различных браузерах.\n",
    "- Некоторые системы предоставляют возможность детального отслеживания ошибок, установку контрольных точек и наблюдателей\n",
    "- существует отличное приложение Firebug для Firefox\n",
    "- Node.js позволяет скидывать в лог информацию\n",
    "- Вывод информации в консоль, в зависимости от типа сообщение может быть отформатировано стилистически или скрипт приостановить свое выполнение.\n",
    "\n",
    "    - debug(\"Сообщение или переменная\")\n",
    "    - info(\"Сообщение или переменная\")\n",
    "    - log(\"Сообщение или переменная\")\n",
    "    - warn(\"Сообщение или переменная\")\n",
    "    - error(\"Сообщение или переменная\")"
   ]
  },
  {
   "cell_type": "code",
   "execution_count": 7,
   "metadata": {
    "collapsed": false
   },
   "outputs": [
    {
     "name": "stdout",
     "output_type": "stream",
     "text": [
      "Привет\n"
     ]
    },
    {
     "data": {
      "text/plain": [
       "undefined"
      ]
     },
     "execution_count": 7,
     "metadata": {},
     "output_type": "execute_result"
    }
   ],
   "source": [
    "console.log(\"Привет\")"
   ]
  },
  {
   "cell_type": "code",
   "execution_count": null,
   "metadata": {
    "collapsed": true
   },
   "outputs": [],
   "source": []
  }
 ],
 "metadata": {
  "kernelspec": {
   "display_name": "Javascript (Node.js)",
   "language": "javascript",
   "name": "javascript"
  },
  "language_info": {
   "file_extension": ".js",
   "mimetype": "application/javascript",
   "name": "javascript",
   "version": "7.9.0"
  }
 },
 "nbformat": 4,
 "nbformat_minor": 2
}
