{
 "cells": [
  {
   "cell_type": "markdown",
   "metadata": {},
   "source": [
    "# Методы в массивах и объектах\n",
    "##  `every`, `some`\n",
    "\n",
    "### Методы массива длят условий: `Array#every`\n",
    "- `Array#every`\n",
    "  - Сигнатура: `[].every(callback);`\n",
    "  - Колбэк: `callback(item [, index [,arr]])`\n",
    "  - Возвращает: `Boolean`\n",
    "  - Поведение: возвращает `true` если **все** если все элементы массива удовлетворяют критериям `callback()`\n",
    "    - Возвращает `false` если **какой-либо** из методов не удовлетворяет условию переданному в `callback()`\n",
    "  - Поддерживается: везде\n",
    "\n",
    "### Условия: `Array#every`\n",
    "\n",
    "- Проверить все элементы на четность?"
   ]
  },
  {
   "cell_type": "code",
   "execution_count": 2,
   "metadata": {
    "collapsed": false
   },
   "outputs": [
    {
     "name": "stdout",
     "output_type": "stream",
     "text": [
      "false\n",
      "true\n"
     ]
    },
    {
     "data": {
      "text/plain": [
       "undefined"
      ]
     },
     "execution_count": 2,
     "metadata": {},
     "output_type": "execute_result"
    }
   ],
   "source": [
    "function isOdd(number) {\n",
    "  return !!(number % 2);\n",
    "}\n",
    "\n",
    "console.log([1, 2, 3, 4].every(isOdd)); \n",
    "console.log([1, 3, 5, 7].every(isOdd)); "
   ]
  },
  {
   "cell_type": "markdown",
   "metadata": {
    "collapsed": true
   },
   "source": [
    "- Проверка всех чисел на условие того, что они больше 18"
   ]
  },
  {
   "cell_type": "code",
   "execution_count": 4,
   "metadata": {
    "collapsed": false
   },
   "outputs": [
    {
     "name": "stdout",
     "output_type": "stream",
     "text": [
      "true\n",
      "false\n"
     ]
    },
    {
     "data": {
      "text/plain": [
       "undefined"
      ]
     },
     "execution_count": 4,
     "metadata": {},
     "output_type": "execute_result"
    }
   ],
   "source": [
    "function isGreaterThan18(number) {\n",
    "  return number > 18;\n",
    "}\n",
    "\n",
    "console.log([22, 23].every(isGreaterThan18)); //true\n",
    "console.log([19, 18].every(isGreaterThan18)); //false"
   ]
  },
  {
   "cell_type": "markdown",
   "metadata": {},
   "source": [
    "### Методы массивов для условий: `Array#some`\n",
    "\n",
    "- `Array#some`\n",
    "  - Сигнатура: `[].some(callback);`\n",
    "  - Колбэк: `callback(item [, index [,arr]])`\n",
    "  - Возвращает: `Boolean`\n",
    "  - Поведение: возвращает `true` если **какой-либо** удовлетворяет критериям указанным в `callback()`\n",
    "      - -Возвращает `false` если не один из элементов не удовлетворяет усвлоиям `callback()`\n",
    "  - Поддержка везде\n",
    "\n",
    "### Условия: `Array#some`\n",
    "\n",
    "- Проверка массива на наличие хотя бы одного четного числа"
   ]
  },
  {
   "cell_type": "code",
   "execution_count": 5,
   "metadata": {
    "collapsed": false
   },
   "outputs": [
    {
     "name": "stdout",
     "output_type": "stream",
     "text": [
      "true\n",
      "true\n",
      "false\n"
     ]
    },
    {
     "data": {
      "text/plain": [
       "undefined"
      ]
     },
     "execution_count": 5,
     "metadata": {},
     "output_type": "execute_result"
    }
   ],
   "source": [
    "function isOdd(number) {\n",
    "  return !!(number % 2);\n",
    "}\n",
    "console.log([1, 2, 3, 4].some(isOdd)); //true\n",
    "console.log([1, 3, 5, 7].some(isOdd)); //true\n",
    "console.log([2, 4, 6, 8].some(isOdd)); //false"
   ]
  },
  {
   "cell_type": "markdown",
   "metadata": {},
   "source": [
    "- Хотя бы одно число больше 18"
   ]
  },
  {
   "cell_type": "code",
   "execution_count": 6,
   "metadata": {
    "collapsed": false
   },
   "outputs": [
    {
     "name": "stdout",
     "output_type": "stream",
     "text": [
      "true\n",
      "true\n",
      "false\n"
     ]
    },
    {
     "data": {
      "text/plain": [
       "undefined"
      ]
     },
     "execution_count": 6,
     "metadata": {},
     "output_type": "execute_result"
    }
   ],
   "source": [
    "function isGreaterThan18(number) {\n",
    "  return number > 18;\n",
    "}\n",
    "console.log([22, 23].some(isGreaterThan18)); //true\n",
    "console.log([19, 18].some(isGreaterThan18)); //true\n",
    "console.log([17, 18].some(isGreaterThan18)); //false"
   ]
  },
  {
   "cell_type": "markdown",
   "metadata": {},
   "source": [
    "### Методы трасформации массивов  `map`, `reduce`, `filter`\n",
    "\n",
    "### Метод `Array#filter`\n",
    "\n",
    "- `Array#filter`\n",
    "  - Сигнатура: `[].filter(callback);`\n",
    "  - Колбэк: `callback(item [, index [, arr]])`\n",
    "  - Возвращает: `Array`\n",
    "  - Поведение: **извлекает** из массива элементы которые **удовлетворяют условию** в `callback()`\n",
    "    - Возвращает **пустой массив**, если нет элементов удовлетворяющих критериям.\n",
    "  - Поддержка: везде\n",
    "\n",
    "### Трансформация: Array#filter\n",
    "\n",
    "- Извлечь четные элементы из массива"
   ]
  },
  {
   "cell_type": "code",
   "execution_count": 7,
   "metadata": {
    "collapsed": false
   },
   "outputs": [
    {
     "name": "stdout",
     "output_type": "stream",
     "text": [
      "[ 1, 3 ]\n",
      "[ 1, 3, 5, 7 ]\n",
      "[]\n"
     ]
    },
    {
     "data": {
      "text/plain": [
       "undefined"
      ]
     },
     "execution_count": 7,
     "metadata": {},
     "output_type": "execute_result"
    }
   ],
   "source": [
    "function isOdd(number) {\n",
    "  return !!(number % 2);\n",
    "}\n",
    "console.log([1, 2, 3, 4].filter(isOdd)); // [1, 3]\n",
    "console.log([1, 3, 5, 7].filter(isOdd)); // [1, 3, 5, 7]\n",
    "console.log([2, 4, 6, 8].filter(isOdd)); // []"
   ]
  },
  {
   "cell_type": "markdown",
   "metadata": {},
   "source": [
    "- Возвращает элементы водящие в диапазон"
   ]
  },
  {
   "cell_type": "code",
   "execution_count": 9,
   "metadata": {
    "collapsed": false
   },
   "outputs": [
    {
     "name": "stdout",
     "output_type": "stream",
     "text": [
      "[ 4, 5, 6, 7 ]\n",
      "[ 2, 3, 4 ]\n"
     ]
    },
    {
     "data": {
      "text/plain": [
       "undefined"
      ]
     },
     "execution_count": 9,
     "metadata": {},
     "output_type": "execute_result"
    }
   ],
   "source": [
    "function InRange(min, max) {\n",
    "  return function(item) { return min <= item && item <= max; };\n",
    "}\n",
    "var numbers = [2, 3, 4, 5, 6, 7, 8];\n",
    "console.log(numbers.filter(InRange(4, 7))); // [4, 5, 6, 7]\n",
    "console.log(numbers.filter(InRange(2, 4))); // [2, 3, 4]"
   ]
  },
  {
   "cell_type": "markdown",
   "metadata": {},
   "source": [
    "### Методы трансформации массивов: `Array#reduce`\n",
    "\n",
    "- `Array#reduce`\n",
    "  - Сигнатура: `[].reduce(callback, initial);`\n",
    "  - Колбэк: `callback(accumulator, item [, index [, arr]])`\n",
    "  - Возвращает: `Object`\n",
    "  - Поведение: возвращает **объект**, с результатами `callback()`\n",
    "  - Поддержка: везде\n",
    "\n",
    "### Трансформация: Array#reduce\n",
    "\n",
    "- Вычислить сумму и произведение элементов\n"
   ]
  },
  {
   "cell_type": "code",
   "execution_count": 10,
   "metadata": {
    "collapsed": false
   },
   "outputs": [
    {
     "name": "stdout",
     "output_type": "stream",
     "text": [
      "10\n",
      "24\n"
     ]
    },
    {
     "data": {
      "text/plain": [
       "undefined"
      ]
     },
     "execution_count": 10,
     "metadata": {},
     "output_type": "execute_result"
    }
   ],
   "source": [
    "var sum = [1, 2, 3, 4].reduce(function(sum, number) {\n",
    "  return sum + number;\n",
    "}, 0);\n",
    "var product = [1, 2, 3, 4].reduce(function(sum, number) {\n",
    "  return sum * number;\n",
    "}, 1);\n",
    "console.log(sum);               //10\n",
    "console.log(product);           //24"
   ]
  },
  {
   "cell_type": "markdown",
   "metadata": {},
   "source": [
    "### Методы трансформации массивов: `Array#map`\n",
    "\n",
    "- `Array#map`\n",
    "  - Сигнатура: `[].map(callback);`\n",
    "  - Колбэк: `callback(item [, index [, arr]])`\n",
    "  - Возвращает: `Object`\n",
    "  - Порведение: возвращается новый массив с таким же размером. каждый элемент преобразуется в соответствии с `callback()`\n",
    "  - Поддержка: везде\n",
    "\n",
    "<!-- attr: {style: 'font-size: 0.9em'} -->\n",
    "### Трансформация: `Array#map`\n",
    "\n",
    "- Вычисляет квадрат каждого из чисел\n"
   ]
  },
  {
   "cell_type": "code",
   "execution_count": 11,
   "metadata": {
    "collapsed": false
   },
   "outputs": [
    {
     "name": "stdout",
     "output_type": "stream",
     "text": [
      "[ 1, 4, 9, 16, 25 ]\n"
     ]
    },
    {
     "data": {
      "text/plain": [
       "undefined"
      ]
     },
     "execution_count": 11,
     "metadata": {},
     "output_type": "execute_result"
    }
   ],
   "source": [
    "var squares = [1, 2, 3, 4, 5].map(function(number) {\n",
    "  return number * number;\n",
    "});\n",
    "console.log(squares); //prints [ 1, 4, 9, 16, 25 ]"
   ]
  },
  {
   "cell_type": "markdown",
   "metadata": {},
   "source": [
    "- Трансформирует матрицу заданную в массиве строк, в массив массивов"
   ]
  },
  {
   "cell_type": "code",
   "execution_count": 12,
   "metadata": {
    "collapsed": false
   },
   "outputs": [
    {
     "name": "stdout",
     "output_type": "stream",
     "text": [
      "[ [ 1, 2, 3 ], [ 4, 5, 6 ] ]\n"
     ]
    },
    {
     "data": {
      "text/plain": [
       "undefined"
      ]
     },
     "execution_count": 12,
     "metadata": {},
     "output_type": "execute_result"
    }
   ],
   "source": [
    "var lines = ['1 2 3',\n",
    "             '4 5 6'];\n",
    "var matrix = lines.map(function(line) {\n",
    "  return line.split(' ')\n",
    "             .map(Number);\n",
    "});                                             // [[1, 2, 3],\n",
    "console.dir(matrix);                            //  [4, 5, 6]]"
   ]
  },
  {
   "cell_type": "markdown",
   "metadata": {},
   "source": [
    "### Итераторы массивов\n",
    "\n",
    "### Итератор: `Array#forEach`\n",
    "\n",
    "- `Array#forEach`\n",
    "  - Сигнатура: `[].forEach(callback);`\n",
    "  - Колбэк: `callback(item [, index [, arr]])`\n",
    "  - Возвращает: `undefined`\n",
    "  - Поведение: **проходит по элементами** и применяет к каждому элементу функцию callback\n",
    "    - Очень похоже на цикл for-of где функцией колбеком является блок цикла.\n",
    "  - Поддержка: везде\n",
    "\n",
    "### Итератор: `Array#forEach`\n",
    "\n",
    "- Печатает элементы вместе с их индексом"
   ]
  },
  {
   "cell_type": "code",
   "execution_count": 14,
   "metadata": {
    "collapsed": false
   },
   "outputs": [
    {
     "name": "stdout",
     "output_type": "stream",
     "text": [
      "Item at 0 has value One\n",
      "Item at 1 has value Two\n",
      "Item at 2 has value Three\n",
      "Item at 3 has value Four\n",
      "Item at 4 has value Five\n"
     ]
    },
    {
     "data": {
      "text/plain": [
       "undefined"
      ]
     },
     "execution_count": 14,
     "metadata": {},
     "output_type": "execute_result"
    }
   ],
   "source": [
    "var numbers = ['One', 'Two', 'Three', 'Four', 'Five'];\n",
    "numbers.forEach(function(item, index) {\n",
    "  console.log('Item at ' + index + ' has value ' + item);\n",
    "});"
   ]
  },
  {
   "cell_type": "markdown",
   "metadata": {},
   "source": [
    "- Вызывает метод для каждом элементе в массиве"
   ]
  },
  {
   "cell_type": "code",
   "execution_count": 31,
   "metadata": {
    "collapsed": false
   },
   "outputs": [
    {
     "name": "stdout",
     "output_type": "stream",
     "text": [
      "Привет, мое имя Петя\n",
      "Привет, мое имя Вася\n",
      "Привет, мое имя Вова\n"
     ]
    },
    {
     "data": {
      "text/plain": [
       "undefined"
      ]
     },
     "execution_count": 31,
     "metadata": {},
     "output_type": "execute_result"
    }
   ],
   "source": [
    "function createPerson(name, age) {\n",
    "        return { name: name,\n",
    "                 age: age,\n",
    "                 introduce: function () {\n",
    "                    console.log('Привет, мое имя ' + this.name);\n",
    "                }\n",
    "            };\n",
    "    };\n",
    "\n",
    "var people = [createPerson('Петя', 13),\n",
    "    createPerson('Вася', 18),\n",
    "    createPerson('Вова', 21)];\n",
    "people.forEach(function(person) {\n",
    "    person.introduce();\n",
    "});"
   ]
  },
  {
   "cell_type": "markdown",
   "metadata": {},
   "source": [
    "### Метды для поиска по массиву  `find`, `findIndex`\n",
    "### Поиск: `Array#find`\n",
    "\n",
    "- `Array#find`\n",
    "  - Сигнатура: `[].find(callback);`\n",
    "  - Колбэк: `callback(item [, index [, arr]])`\n",
    "  - Возвращает: `Object` or `undefined`\n",
    "  - Поведение: возвращает **крайний левый элемент** в массиве, который **удовлетворяет критериям** в `callback()`\n",
    "    - И **нет такого элемента** возвращается `undefined`\n",
    "  - Поддержка: Почти нигде, необходим полифил - класс, имплементирующий поддержку функционала\n",
    "\n",
    "### Поиск: `Array#find`\n",
    "\n",
    "- Ищет крайнее левое нечетное число, большее 5"
   ]
  },
  {
   "cell_type": "code",
   "execution_count": 28,
   "metadata": {
    "collapsed": false
   },
   "outputs": [
    {
     "data": {
      "text/plain": [
       "7"
      ]
     },
     "execution_count": 28,
     "metadata": {},
     "output_type": "execute_result"
    }
   ],
   "source": [
    "var numbers = [1, 2, 3, 4, 5, 6, 7, 8, 9, 10];\n",
    "numbers.find(function(item) {\n",
    "  return !!(item % 2) && item > 5;\n",
    "});            //prints 7"
   ]
  },
  {
   "cell_type": "markdown",
   "metadata": {},
   "source": [
    "- Ищет крайнее левое нечетное число с индексом больше 3"
   ]
  },
  {
   "cell_type": "code",
   "execution_count": 27,
   "metadata": {
    "collapsed": false
   },
   "outputs": [
    {
     "data": {
      "text/plain": [
       "5"
      ]
     },
     "execution_count": 27,
     "metadata": {},
     "output_type": "execute_result"
    }
   ],
   "source": [
    "var numbers = [1, 2, 3, 4, 5, 6, 7, 8, 9, 10];\n",
    "numbers.find(function(item, index) {\n",
    "  return index > 3 && !!(item % 2);\n",
    "});            //prints 5"
   ]
  },
  {
   "cell_type": "markdown",
   "metadata": {},
   "source": [
    "### Поиск по массиву: `Array#findIndex`\n",
    "\n",
    "- `Array#findIndex`\n",
    "  - Сигнатура: `[].findIndex(callback);`\n",
    "  - Коллбэк: `callback(item [, index [, arr]])`\n",
    "  - Возвращает: `Number` or `-1`\n",
    "  - Поведение: возвращает **индекс крайнего левого** элемента в массиве, который **удловлеторяет критерию** в `callback`\n",
    "    - Если **элемент не найде** возвращает `-1`\n",
    "  - Поддержка: Почти нигде, необходим полифил - класс, имплементирующий поддержку функционала\n",
    "\n",
    "### Поиск: Array#findIndex\n",
    "\n",
    "- Найти индекс крайнего левого элемента большего 5"
   ]
  },
  {
   "cell_type": "code",
   "execution_count": 26,
   "metadata": {
    "collapsed": false
   },
   "outputs": [
    {
     "data": {
      "text/plain": [
       "6"
      ]
     },
     "execution_count": 26,
     "metadata": {},
     "output_type": "execute_result"
    }
   ],
   "source": [
    "var numbers = [1, 2, 3, 4, 5, 6, 7, 8, 9, 10];\n",
    "numbers.findIndex(function(item) {\n",
    "  return !!(item % 2) && item > 5;\n",
    "});            //prints 6(element 7)"
   ]
  },
  {
   "cell_type": "markdown",
   "metadata": {},
   "source": [
    "- Поиск индекса крайнего левого элмента с индексом большим 3"
   ]
  },
  {
   "cell_type": "code",
   "execution_count": 25,
   "metadata": {
    "collapsed": false
   },
   "outputs": [
    {
     "data": {
      "text/plain": [
       "4"
      ]
     },
     "execution_count": 25,
     "metadata": {},
     "output_type": "execute_result"
    }
   ],
   "source": [
    "var numbers = [1, 2, 3, 4, 5, 6, 7, 8, 9, 10];\n",
    "\n",
    "numbers.findIndex(function(item, index) {\n",
    "  return index > 3 && !!(item % 2);\n",
    "});            //prints 4(element 5)"
   ]
  },
  {
   "cell_type": "markdown",
   "metadata": {},
   "source": [
    "### Другие методы массива  `sort`, `fill`\n",
    "### Методы: `Array#sort`\n",
    "\n",
    "- `Array#sort`\n",
    "  - Сигнатура: `[].sort(callback);`\n",
    "  - Коллбэк: `callback(obj1, obj2)`\n",
    "  - Возвращает: `Array`\n",
    "  - Поведение: **сортирует элементы** в массиве в соответствии с `callback()`\n",
    "  - Поддержка: везде\n",
    "\n",
    "### `Array#sort`\n",
    "\n",
    "- Сортирует массив в обратном порядке\n"
   ]
  },
  {
   "cell_type": "code",
   "execution_count": 24,
   "metadata": {
    "collapsed": false
   },
   "outputs": [
    {
     "data": {
      "text/plain": [
       "[ 6, 5, 4, 2, 1 ]"
      ]
     },
     "execution_count": 24,
     "metadata": {},
     "output_type": "execute_result"
    }
   ],
   "source": [
    "var numbers = [5, 1, 2, 4, 6];\n",
    "numbers.sort(function(x, y) {\n",
    "  return y - x;\n",
    "});"
   ]
  },
  {
   "cell_type": "markdown",
   "metadata": {},
   "source": [
    "- Сотирует массив людей по имени"
   ]
  },
  {
   "cell_type": "code",
   "execution_count": 47,
   "metadata": {
    "collapsed": false
   },
   "outputs": [
    {
     "name": "stdout",
     "output_type": "stream",
     "text": [
      "[ { name: 'Вася', age: 18, introduce: [Function: introduce] },\n",
      "  { name: 'Жора', age: 18, introduce: [Function: introduce] },\n",
      "  { name: 'Семен', age: 13, introduce: [Function: introduce] } ]\n"
     ]
    },
    {
     "data": {
      "text/plain": [
       "undefined"
      ]
     },
     "execution_count": 47,
     "metadata": {},
     "output_type": "execute_result"
    }
   ],
   "source": [
    "var people = [createPerson('Семен', 13), createPerson('Вася', 18), createPerson('Жора', 18)];\n",
    "people.sort(function(p1, p2) {\n",
    "  return p1.name > p2.name;\n",
    "});\n",
    "\n",
    "console.log(people);"
   ]
  },
  {
   "cell_type": "markdown",
   "metadata": {},
   "source": [
    "### Методы: `Array#fill`\n",
    "\n",
    "- `Array#fill`\n",
    "  - Сигнатура: `[].fill(value [, from [, to]])`\n",
    "  - Возвращает: `Array`\n",
    "  - Поведение: **заполняет массив** переданными значениями\n",
    "  - Поддержка: Почти нигде, необходим полифил - класс, имплементирующий поддержку функционала\n",
    "\n",
    "### `Array#fill`\n",
    "\n",
    "- Заполняет массив единицами\n"
   ]
  },
  {
   "cell_type": "code",
   "execution_count": 48,
   "metadata": {
    "collapsed": false
   },
   "outputs": [
    {
     "name": "stdout",
     "output_type": "stream",
     "text": [
      "[ 1, 1, 1, 1, 1, 1, 1, 1, 1, 1, 1, 1, 1, 1, 1 ]\n"
     ]
    },
    {
     "data": {
      "text/plain": [
       "undefined"
      ]
     },
     "execution_count": 48,
     "metadata": {},
     "output_type": "execute_result"
    }
   ],
   "source": [
    "var count = 15,\n",
    "  arr = Array.from({length: count})\n",
    "    .fill(1);\n",
    "console.log(arr);"
   ]
  },
  {
   "cell_type": "markdown",
   "metadata": {},
   "source": [
    "- Создает массив массивов"
   ]
  },
  {
   "cell_type": "code",
   "execution_count": 49,
   "metadata": {
    "collapsed": false
   },
   "outputs": [
    {
     "name": "stdout",
     "output_type": "stream",
     "text": [
      "[ [ 1, 2, 3, 4, 5 ],\n",
      "  [ 1, 2, 3, 4, 5 ],\n",
      "  [ 1, 2, 3, 4, 5 ],\n",
      "  [ 1, 2, 3, 4, 5 ],\n",
      "  [ 1, 2, 3, 4, 5 ] ]\n"
     ]
    },
    {
     "data": {
      "text/plain": [
       "undefined"
      ]
     },
     "execution_count": 49,
     "metadata": {},
     "output_type": "execute_result"
    }
   ],
   "source": [
    "var count = 5,\n",
    "  arr = Array.from({length: count}) // [ [ 1, 2, 3, 4, 5 ],\n",
    "    .fill([1, 2, 3, 4, 5]);         // [ 1, 2, 3, 4, 5 ],\n",
    "                                    // [ 1, 2, 3, 4, 5 ],\n",
    "arr.fill([1, 2, 3, 4, 5]);          // [ 1, 2, 3, 4, 5 ],\n",
    "console.log(arr);                   // [ 1, 2, 3, 4, 5 ] ]"
   ]
  },
  {
   "cell_type": "markdown",
   "metadata": {},
   "source": [
    "### Цепочки методов\n",
    "### Что такое цепочки?\n",
    "- Цепочки это шаблон для вызова методов в функциональном программировании\n",
    "  - Каждый метод возвращает объект\n",
    "    - Другой метод может вызан по этому объекту\n",
    "    - и.т.д…\n",
    "- Для того, чтобы вызывать цепочки, следуйте следующим правилам:\n",
    "  - Если метод должен возвращать результат -> верните его\n",
    "    - Иначе, верите объект для того, чтобы продолжить цепочку\n",
    "\n",
    "### Цепочки методов массива\n",
    "- Большинство методов массива возвращают результат\n",
    "    1.  Заполнить массив случайных чисел\n",
    "    2.  Удалить все четные цифры\n",
    "    3.  Вернуть массив с именами остальных цифр"
   ]
  },
  {
   "cell_type": "code",
   "execution_count": 97,
   "metadata": {
    "collapsed": false
   },
   "outputs": [
    {
     "name": "stdout",
     "output_type": "stream",
     "text": [
      "[ 'Девять', 'Девять', 'Три', 'Семь', 'Один', 'Один' ]\n"
     ]
    },
    {
     "data": {
      "text/plain": [
       "undefined"
      ]
     },
     "execution_count": 97,
     "metadata": {},
     "output_type": "execute_result"
    }
   ],
   "source": [
    "var n = 10;\n",
    "function getRandomDigit() { return (Math.random() * 10) | 0; }\n",
    "function isOdd(item) { return !!(item % 2); }\n",
    "function digitToDigitName(digit) {\n",
    "  return ['Ноль', 'Один','Два','Три','Четыре','Пять','Шесть','Семь','Восемь', 'Девять'][digit];\n",
    "}\n",
    "  var digitNames = Array.from({length: n})\n",
    "    .fill(0)\n",
    "    .map(getRandomDigit)\n",
    "    .filter(isOdd)\n",
    "    .map(digitToDigitName);\n",
    "  console.log(digitNames);"
   ]
  },
  {
   "cell_type": "markdown",
   "metadata": {},
   "source": [
    "- Используя ES 2015"
   ]
  },
  {
   "cell_type": "code",
   "execution_count": 94,
   "metadata": {
    "collapsed": false
   },
   "outputs": [
    {
     "name": "stdout",
     "output_type": "stream",
     "text": [
      "[ 'Один', 'Один', 'Девять', 'Пять' ]\n"
     ]
    },
    {
     "data": {
      "text/plain": [
       "undefined"
      ]
     },
     "execution_count": 94,
     "metadata": {},
     "output_type": "execute_result"
    }
   ],
   "source": [
    "var digits = Array(10)\n",
    "\n",
    "var digitNames = digits.fill(0)\n",
    "  .map(x => Math.random()*10 | 0)\n",
    "  .filter(x=> !!(x%2))\n",
    "  .map(x=>  ['Ноль', 'Один','Два','Три','Четыре','Пять','Шесть','Семь','Восемь', 'Девять'][x]);\n",
    "\n",
    "console.log(digitNames);"
   ]
  },
  {
   "cell_type": "code",
   "execution_count": null,
   "metadata": {
    "collapsed": true
   },
   "outputs": [],
   "source": []
  }
 ],
 "metadata": {
  "kernelspec": {
   "display_name": "Javascript (Node.js)",
   "language": "javascript",
   "name": "javascript"
  },
  "language_info": {
   "file_extension": ".js",
   "mimetype": "application/javascript",
   "name": "javascript",
   "version": "7.5.0"
  }
 },
 "nbformat": 4,
 "nbformat_minor": 2
}
