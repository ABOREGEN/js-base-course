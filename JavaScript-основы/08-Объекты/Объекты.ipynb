{
 "cells": [
  {
   "cell_type": "markdown",
   "metadata": {},
   "source": [
    "# Использование объектов\n",
    "### Что такое объекты?\n",
    "- Программные обьекты это модели объектов реалльного мира или абстрактные концепции\n",
    "\t\t- банк, банковский счет, клиент, собака, мотоцикл, очередь\n",
    "- Объекты реального мира имеют **состояния** и **поведения**\n",
    "  - Поля банковского счета:\n",
    "    - держатель, баланс, тип\n",
    "\t\t- Методы банковского счета:\n",
    "    - снять, положить, закрыть\n",
    "\n",
    "- Каким образом программные объекты хранят параметры обьектов физического мира?\n",
    "  - Используйте поля / данные / массивы для хранения состояний\n",
    "  - Ипользуйте методы и функции для хранения поведений\n",
    "- Объект может содержать в себе свойства и методы\n",
    "\n",
    "### Объекты представляют\n",
    "- Вещи реального мира\n",
    "\t- людей\n",
    "\t- листы покупок\n",
    "- Вещи компьютерного мира\n",
    "  - числа\n",
    "  - символы\n",
    "  - очереди\n",
    "  - массивы\n",
    "\n",
    "### Что такое тип Object?\n",
    "\n",
    "**тип Object** является шаблоном из которого пораждается объект во время выполнения программного кода.\n",
    "\n",
    "<!-- attr: { hasScriptWrapper:true } -->\n",
    "### тип Object\n",
    "- тип Object определяет стрктуру для объекта\n",
    "- Define their prototype, act as template\n",
    "- Определяет его прототип, являясь шаблоном\n",
    "- Тип Object определяет:\n",
    "  - Установленные  **атрибуты**\n",
    "    - Представленные переменными и свойствами\n",
    "    - Хранит их **состояние**\n",
    "  - Определяет их действия называемые **поведением**\n",
    "    - Представленные методами\n",
    "- Определяет методы и типы данных ассоциированные с объектом\n",
    "\n",
    "<img class=\"slide-image\" showInPresentation=\"true\" src=\"http://www.picshare.ru/uploads/170222/s5cvH3j2B1.png\" style=\"top:15%; left:10%; width:80%; z-index:-1\" />\n",
    "\n",
    "### Объекты\n",
    "- **object** это конкретный **экземпляр** относящийся к типу object\n",
    "- object создается типом object путем порождения **экземпляра**\n",
    "- Обьект имеет состояние\n",
    "  - установленные значения для его атрибутов\n",
    "  - _Type:_ Счет\n",
    "  - _Objects:_ Счет Ивана, Счет Васи\n",
    "\n",
    "\n",
    "<img class=\"slide-image\" showInPresentation=\"true\" src=\"http://www.picshare.ru/uploads/170222/Dmu4A0OM4m.png\" style=\"top:15%; left:10%; width:80%; z-index:-1\" />\n",
    "\n",
    "### Обзор объектов\n",
    "- JavaScript спроектирован на простой обьектно-ориентированной парадигме\n",
    "  - Обьект является совокупностью **свойств**\n",
    "- Каждое свойство объекта имеет имя и содержит значение\n",
    "  - значением свойства обьекта может быть **метод** (функция) или  **поле** (переменная)\n",
    "- В JS есть много предопределенных обьектов\n",
    "  - `Math`, `document`, `window`, и др.\n",
    "- Объект может быть порожден разработчиком\n",
    "\n",
    "### Свойства объекта\n",
    "- Каждое из **свойств** объекта\n",
    "  - Свойства это значения ассоциированные с объектом\n",
    "  - К свойствам обьекта можно получить доступ с помощью (`.` оператора) или  `[]` - индекса:\n",
    "\n",
    "```js\n",
    "let arrStr = arr.join(', '); // свойство массива join\n",
    "let length = arr.length;  // свойство массива length\n",
    "let words = text.split(' ');\n",
    "let words = text['split'](' ');\n",
    "```"
   ]
  },
  {
   "cell_type": "code",
   "execution_count": null,
   "metadata": {
    "collapsed": false
   },
   "outputs": [],
   "source": [
    "var maxNumber = 16,\n",
    "    binaryDigits, number, numberInBinary, paddedBinary;\n",
    "\n",
    "binaryDigits = maxNumber.toString(2).length - 1;\n",
    "for (number = 0; number < maxNumber; number++) {\n",
    "    numberInBinary = number.toString(2);\n",
    "    paddedBinary = padLeft(numberInBinary, binaryDigits);\n",
    "    console.log('Число ' + number + ' представляется в бинарнов виде как ' + paddedBinary);\n",
    "}\n",
    "\n",
    "function padLeft(number, diggits) {\n",
    "    return '00000000000000000000000000000000000000000'\n",
    "        .substr(0, diggits - number.length) + number;\n",
    "}"
   ]
  },
  {
   "cell_type": "markdown",
   "metadata": {},
   "source": [
    "### Ссылки и примитивные типы\n",
    "- JavaScript **слабо типизированный** язык\n",
    "  - Переменные не имеют типа, но их значения имеют\n",
    "- JavaScript имеет **шесть** различных тиепов:\n",
    "  - `Number`, `String`, `Boolean`, `Null`, `Undefined` and `Object`\n",
    "- `Object` это только ссылочный тип\n",
    "  - Он доступны как **ссылка** (всякий раз, когда происходит работа со значениями обьекта, это происходит через ссылки)\n",
    "- `Number`, `String`, `Boolean`, `Null`, `Undefined` являются **примитивными** типами\n",
    "  - Доступны как **значние** (они копируются всякий раз, когда используется их значение)\n",
    "\n",
    "- Примитивные типы  `Boolean`, `Number`, `String`, `Undefined` и `Null`\n",
    "  - Все остальные типы являются обьектом `object`\n",
    "    - Включая массивы, даты, другие типы..\n",
    "\n",
    "```js\n",
    "// все это вернет true\n",
    "console.log(typeof new Object() === typeof new Array());\n",
    "console.log(typeof new Object() === typeof new Date());\n",
    "console.log(typeof new Array() === typeof new Date());\n",
    "```\n",
    "\n",
    "- Все типы содержащие объект `Object`\n",
    "  - Имеют тип `object`\n",
    "\n",
    "### Доступ по значению vs. Доступ по ссылке\n",
    "\n",
    "<img class=\"slide-image\" showInPresentation=\"true\" src=\"http://www.picshare.ru/uploads/170222/587gyn51ju.gif\" style=\"top:25%; left:10%; width:80%; z-index:-1; border-radius: 10px\" />\n",
    "\n",
    "### Примитивные типы\n",
    "- Примитивные типы доступны по **значению**\n",
    "  - Когда происходит доступ к аргументу\n",
    "    - Выделяется новая память\n",
    "    - Значение копируется в память\n",
    "    - Значение в памяти становится доступным\n",
    "- Примитивные типы инициализируются с помошью литералов\n",
    "- Примитивные типы имеют обьект **обертку**\n",
    "\n",
    "```js\n",
    "let number = 5, // Содержит примитивное значение 5\n",
    "    text = 'Hello there!', // Содержит примитивное значение\n",
    "    numberObj = new Number(5); // Содержит объект со зачением 5\n",
    "```\n",
    "\n",
    "- Создать 2 строковых переменных\n",
    "  - Создать объект содержащий значения этих переменных\n",
    "  - Изменить значение переменной\n",
    "  - Каждый объект содержит свое значение\n",
    "\n",
    "```js\n",
    "let fname = 'Вася',\n",
    "    lname = 'Пупкин',\n",
    "    person = { firstName: fname, lastName: lname };\n",
    "lname = 'Петров';\n",
    "console.log(person.lastName) // logged 'Пупкин'\n",
    "```"
   ]
  },
  {
   "cell_type": "code",
   "execution_count": null,
   "metadata": {
    "collapsed": false
   },
   "outputs": [],
   "source": [
    "var num = 5,\n",
    "    numObj = new Number(5);\n",
    "\n",
    "console.log('(number == numberObj) = ' + (num == numObj));\n",
    "console.log('(number === numberObj) = ' + (num === numObj));\n",
    "console.log('typeof num = ' + typeof num);\n",
    "console.log('typeof numObj = ' + typeof numObj);\n",
    "console.log('(typeof num === typeof numObj) = ' + (typeof num === typeof numObj));\n",
    "\n",
    "//Primitive types are passed by value\n",
    "console.log(\"-------------------\");\n",
    "\n",
    "var fname = 'Вася',\n",
    "    lname = 'Пупкин',\n",
    "    person = {\n",
    "        firstName: fname,\n",
    "        lastName: lname,\n",
    "        toString: function personToString() {\n",
    "            return this.firstName + \" \" + this.lastName\n",
    "    }\n",
    "};\n",
    "\n",
    "console.log(person.toString());\n",
    "console.log('Изменить фамилию на Петров');\n",
    "lname = 'Petrov';\n",
    "console.log(person.toString()) // still \"Пупкин\""
   ]
  },
  {
   "cell_type": "markdown",
   "metadata": {},
   "source": [
    "### Ссылочный тип\n",
    "- `Object` является исключительно **ссылочным типом**\n",
    "  - Когда осуществляется доступ к значению где-либо, оно не копируется, но передается по ссылке"
   ]
  },
  {
   "cell_type": "code",
   "execution_count": null,
   "metadata": {
    "collapsed": false
   },
   "outputs": [],
   "source": [
    "var marks = [\n",
    "  { subject : 'JavaScript', score : 4.50 },\n",
    "  { subject : 'OOP', score : 5.00 },\n",
    "  { subject : 'HTML5', score : 6.00 },\n",
    "  { subject : 'Photoshop', score : 4.00 }];\n",
    "\n",
    "var student = { name: 'Вася Пупкин', marks: marks };\n",
    "marks[2].score = 5.50;\n",
    "\n",
    "console.log(student.marks);\n",
    "// logs 5.50 for HTML5 score"
   ]
  },
  {
   "cell_type": "markdown",
   "metadata": {},
   "source": [
    "### JavaScript обьект литерал\n",
    "- JavaScript обьект литерал это простой способ создания объектов\n",
    "  - Используются фигурные скобки:"
   ]
  },
  {
   "cell_type": "code",
   "execution_count": null,
   "metadata": {
    "collapsed": false
   },
   "outputs": [],
   "source": [
    "var person = {\n",
    "  firstName: 'Вася',\n",
    "  lastName: 'Пупкин',\n",
    "  toString: function () {\n",
    "    return this.firstName + ' ' + this.lastName;\n",
    "  }\n",
    "};\n",
    "\n",
    "console.log(person.toString());"
   ]
  },
  {
   "cell_type": "markdown",
   "metadata": {},
   "source": [
    "### Создание объектов\n",
    "- Давайте создадим 2х людей:\n",
    "\n",
    "```js\n",
    "let Pupkin, Petrov;\n",
    "pupkin = {\n",
    "  fname: 'Вася',\n",
    "  lname: 'Пупкин',\n",
    "  toString: function() {\n",
    "    return this.fname + ' ' + this.lname;\n",
    "  }\n",
    "};\n",
    "petrov = {\n",
    "  fname: 'Петя',\n",
    "  lname: 'Петров',\n",
    "  toString: function() {\n",
    "    return this.fname + ' ' + this.lname;\n",
    "  }\n",
    "};\n",
    "```\n",
    "\n",
    "- Описывать объект приятно, но **повторять ко** не очень хорошо?\n",
    "\n",
    "### Функции создания объектов\n",
    "- Используйте функции для создания объектов\n",
    "  - Просто передайте имя и фамилию и получите объект\n",
    "    - Очень похоже на конструктор"
   ]
  },
  {
   "cell_type": "code",
   "execution_count": null,
   "metadata": {
    "collapsed": false
   },
   "outputs": [],
   "source": [
    "var pupkin, petrov;\n",
    "function makePerson(fname, lname) {\n",
    "  return {\n",
    "    fname: fname,\n",
    "    lname: lname,\n",
    "    toString: function () {\n",
    "      return this.fname + ' ' + this.lname;\n",
    "\t}\n",
    "  }\n",
    "}\n",
    "pupkin = makePerson('Вася', 'Пупкин');\n",
    "petrov = makePerson('Петя', 'Петров');\n",
    "\n",
    "console.log(pupkin.toString())\n",
    "console.log(petrov.toString())"
   ]
  },
  {
   "cell_type": "markdown",
   "metadata": {},
   "source": [
    "### JS свойства объекта\n",
    "- JavaScript обьекты просто хранят пары ключ / значение\n",
    "  - Каждое значение доступно по ключу\n",
    "  - Свойства обьекта доступны по оператору точка (`obj.property`)\n",
    "  - Те неменее доступ к свойствам досупен через скобки\n",
    "    - Подобно массивам\n",
    "\n",
    "```js\n",
    "document.write === document['write']\n",
    "```"
   ]
  },
  {
   "cell_type": "code",
   "execution_count": null,
   "metadata": {
    "collapsed": false
   },
   "outputs": [],
   "source": [
    "console.log('Используем доступ по точке');\n",
    "console['log']('Ипользуем кавычки');"
   ]
  },
  {
   "cell_type": "markdown",
   "metadata": {},
   "source": [
    "### Ассоциативные массивы\n",
    "- Обьекты могут применяться в качестве **ассоциативных массивов**\n",
    "  -  ключ (индекс) в качестве строки\n",
    "    - Так же называются **словарями** или **картами**\n",
    "- Ассоциативные массивы не имеют методов\n",
    "  - `length`, `indexOf`"
   ]
  },
  {
   "cell_type": "code",
   "execution_count": null,
   "metadata": {
    "collapsed": false
   },
   "outputs": [],
   "source": [
    "function countWords(words) {\n",
    "  let word,\n",
    "      wordsCount = {};\n",
    "  for (let i in words) {\n",
    "    word = words[i].toLowerCase();\n",
    "    if (!wordsCount[word]) { wordsCount[word] = 0; }\n",
    "    wordsCount[word] += 1;\n",
    "  }\n",
    "  return wordsCount\n",
    "}\n",
    "\n",
    "countWords(\"Привет когда собираешься переезжать?\")"
   ]
  },
  {
   "cell_type": "code",
   "execution_count": null,
   "metadata": {
    "collapsed": true
   },
   "outputs": [],
   "source": []
  }
 ],
 "metadata": {
  "kernelspec": {
   "display_name": "Javascript (Node.js)",
   "language": "javascript",
   "name": "javascript"
  },
  "language_info": {
   "file_extension": ".js",
   "mimetype": "application/javascript",
   "name": "javascript",
   "version": "7.5.0"
  }
 },
 "nbformat": 4,
 "nbformat_minor": 2
}
