{
 "cells": [
  {
   "cell_type": "markdown",
   "metadata": {},
   "source": [
    "# Строки\n",
    "### String in JavaScript `'Это то же строка'`\n",
    "- Строка это последовательность символов\n",
    "  - Текст оборачиваетя в одинарные (`''`) или двойные кавычки (`\"\"`)"
   ]
  },
  {
   "cell_type": "code",
   "execution_count": 7,
   "metadata": {
    "collapsed": false
   },
   "outputs": [
    {
     "name": "stdout",
     "output_type": "stream",
     "text": [
      "Текст, сохаренный в переменной \n",
      " Текст заключенный в одинарные кавычки\n"
     ]
    },
    {
     "data": {
      "text/plain": [
       "undefined"
      ]
     },
     "execution_count": 7,
     "metadata": {},
     "output_type": "execute_result"
    }
   ],
   "source": [
    "var str1 = \"Текст, сохаренный в переменной\";\n",
    "var str2 = 'Текст заключенный в одинарные кавычки';\n",
    "console.log(str1,'\\n',str2)"
   ]
  },
  {
   "cell_type": "markdown",
   "metadata": {},
   "source": [
    "- Строка это  **примитивный тип**\n",
    "  - он копирует / хранит по значению\n",
    "- Строка так же **неизменяемы тип**\n",
    "  - Всякий раз, когда строка меняется, копируется новая строка\n",
    "\n",
    "### Обертка строки `new String`\n",
    "\n",
    "- Строка это примитивный тип, она имеет объект обертку\n",
    "- Примитивный тип хранит только значение\n",
    "  - Когда свойство вызывается, движок JS конвертирует примитив в соответствующий ему тип объекта и вызывает свойство\n",
    "- Since primitive type wrappers are of type object, properties can be attached to them\n"
   ]
  },
  {
   "cell_type": "code",
   "execution_count": 18,
   "metadata": {
    "collapsed": false
   },
   "outputs": [
    {
     "data": {
      "text/plain": [
       "6"
      ]
     },
     "execution_count": 18,
     "metadata": {},
     "output_type": "execute_result"
    }
   ],
   "source": [
    "var str = 'пример';\n",
    "str.length;"
   ]
  },
  {
   "cell_type": "code",
   "execution_count": 19,
   "metadata": {
    "collapsed": false
   },
   "outputs": [
    {
     "data": {
      "text/plain": [
       "6"
      ]
     },
     "execution_count": 19,
     "metadata": {},
     "output_type": "execute_result"
    }
   ],
   "source": [
    "var str = 'пример';\n",
    "var tempStr = new String(str);\n",
    "tempStr.length;"
   ]
  },
  {
   "cell_type": "markdown",
   "metadata": {},
   "source": [
    "### От объекта к примитивному типу\n",
    "- JavaScript имеет простой синтаксис\n",
    "  - От `string` до `number`\n",
    "- Переход от обьекта к примитиву включает\n",
    "  - `new String('…')` - создается строчный объект\n",
    "  - `String(strObject)` - создается строчный примитив"
   ]
  },
  {
   "cell_type": "code",
   "execution_count": 21,
   "metadata": {
    "collapsed": false
   },
   "outputs": [
    {
     "data": {
      "text/plain": [
       "'string'"
      ]
     },
     "execution_count": 21,
     "metadata": {},
     "output_type": "execute_result"
    }
   ],
   "source": [
    "var base = 'string';\n",
    "var strObj = new String(base);\n",
    "var str = String(strObj);\n",
    "str"
   ]
  },
  {
   "cell_type": "markdown",
   "metadata": {},
   "source": [
    "### Методы строк\n",
    "\n",
    "- `string.length`\n",
    "  - Возвращает число символов в строке\n",
    "- Индексация (`string[index]`)\n",
    "  - Получает один символ из строки по его индексу\n",
    "  - Если `индекс` выходит за пределы диапазона индекса символов, возвращается `undefined`\n",
    "    - `string[-1]` or `string[string.length]`\n",
    "- `charAt(index)`\n",
    "\t- получает один символ из строки на месте `индекса`\n",
    "  - Сильно похож на Индексацию\n",
    "- `string.concat(string2)`\n",
    "  - Возвращает новую строку, состоящую из двух строк\n",
    "- `string.replace(str1, str2)`\n",
    "  - Заменяет вхождение `str1` в `str2`\n",
    "- `string.search(regex)`\n",
    "  - Поиск подстроки с использованием регулярного выражения\n",
    "- `string.indexOf(substring [,position])`\n",
    "  - Возвращает **крайний левый** вхождение `substring` в строку следующую после `position`\n",
    "    - По умолчанию позиция начинается с `0` индекса\n",
    "  - Если строка не содержит `substring`, возвращается `-1`\n",
    "- `string.lastIndexOf(substring [,position])`\n",
    "  - Возвращает **крайнее правое** вхождение `substring` в строку которое предшествует `position`\n",
    "    - Позиция опциональая, значение по умолчанию `string.length`\n",
    "  - Если строка не содержит подстроку `substring`, возвращает `-1`\n",
    "- `string.split(separator)`\n",
    "  - Разделяет строку по `separator` и возвращает массив строк, содержащий разделенные части\n",
    "  - Сепаратор может быть регулярным выражением\n",
    "- `string.trim()`\n",
    "  - Удаляет пробелы в начале и конце строки\n",
    "- `str.trimLeft()`, `str.trimRight()`\n",
    "  - Удаляет пробелы с лева / с права от строки\n",
    "- `string.substr(start, length)`\n",
    "  - Возврощает подстроку начинающуюся со `start` и заканчивающуюся через `length` символов\n",
    "  - `length` опционально\n",
    "- `string.substring(start, end)`\n",
    "  - Возвращает подстроку начинающуюся с позиции `start` и заканчивающуюся позицией `end`\n",
    "- `string.valueOf()`\n",
    "  - Возвращает примитивное значение строки"
   ]
  },
  {
   "cell_type": "code",
   "execution_count": 24,
   "metadata": {
    "collapsed": false
   },
   "outputs": [
    {
     "name": "stdout",
     "output_type": "stream",
     "text": [
      "Пример строки для того, чтобы вывести ее\n",
      "length = 40\n",
      "str[4] = е\n",
      "str.charAt(4) = е\n",
      "\"Пример строки для того, чтобы вывести ее\".indexOf(\"string\") = 7\n",
      "\"Пример строки для того, чтобы вывести ее\".indexOf(\"string\",8) = 24\n",
      "\"Пример строки для того, чтобы вывести ее\".indexOf(\"string\",23) = 30\n",
      "\"Пример строки для того, чтобы вывести ее\".substr(3,5) = \"мер с\"\n",
      "\"Пример строки для того, чтобы вывести ее\".substring(3,5) = \"ме\"\n"
     ]
    },
    {
     "data": {
      "text/plain": [
       "undefined"
      ]
     },
     "execution_count": 24,
     "metadata": {},
     "output_type": "execute_result"
    }
   ],
   "source": [
    "var str = 'Пример строки для того, чтобы вывести ее';\n",
    "\n",
    "    console.log(str);\n",
    "    console.log('length = ' + str.length);\n",
    "\n",
    "    console.log('str[' + 4 + '] = ' + str[4]);\n",
    "    console.log('str.charAt(' + 4 + ') = ' + str.charAt(4));\n",
    "\n",
    "    console.log('\"' + str + '\".indexOf(\"string\") = ' + str.indexOf('строки'));\n",
    "    console.log('\"' + str + '\".indexOf(\"string\",8) = ' + str.indexOf('чтобы', 8));\n",
    "    console.log('\"' + str + '\".indexOf(\"string\",23) = ' + str.indexOf('вывести', 23));\n",
    "\n",
    "    console.log('\"' + str + '\".substr(3,5) = \"' + str.substr(3, 5) + '\"');\n",
    "    console.log('\"' + str + '\".substring(3,5) = \"' + str.substring(3, 5) + '\"');"
   ]
  },
  {
   "cell_type": "markdown",
   "metadata": {},
   "source": [
    "### Конкатенация строк `'Имя' + ' ' + 'Фамилия'`\n",
    "\n",
    "- Строка это неизменяемый тип\n",
    "  - Значение не может быть изменено\n",
    "  - Вместо этого создается новая строка\n",
    "- Существует несколько способов конкатенации строк\n",
    "\n",
    "```js\n",
    "var strConcat1 = str1 + str2;\n",
    "var strConcat2 = str.concat(str2);\n",
    "```\n",
    "\n",
    "- Обьединение строк это ресурсозатратная\n",
    "  - Каждая конкатенация выделяет память\n",
    "- Обьединение строк это наиболее часто используемая операция\n",
    "  - Тем не менее достаточно сложно оптимизировать эту задачу\n",
    "  - Каждый браузер оптимизирует эту операцию по своему усмотрению\n",
    "  - Старые браузер очень медленно конкатенируют используя `+`\n",
    "- Если вы поддерживаете старые браузеры то используйте `array.join(\"\")` для объедиения строк\n",
    "- Работает так же как построитель строки\n",
    "  - Медленнее в современных браузерах\n",
    "\n",
    "```js\n",
    "[].push(srt1, str2, str3, …).join('');\n",
    "```\n"
   ]
  },
  {
   "cell_type": "code",
   "execution_count": 30,
   "metadata": {
    "collapsed": false
   },
   "outputs": [
    {
     "name": "stdout",
     "output_type": "stream",
     "text": [
      "Привет мир!Привет мир!Привет мир!Привет мир!Привет мир!Привет мир!Привет мир!Привет мир!Привет мир!Привет мир!Привет мир!Привет мир!Привет мир!Привет мир!Привет мир!Привет мир!Привет мир!Привет мир!Привет мир!Привет мир!Привет мир!Привет мир!Привет мир!Привет мир!Привет мир!Привет мир!Привет мир!Привет мир!Привет мир!Привет мир!Привет мир!Привет мир!Привет мир!Привет мир!Привет мир!Привет мир!Привет мир!Привет мир!Привет мир!Привет мир!Привет мир!Привет мир!Привет мир!Привет мир!Привет мир!Привет мир!Привет мир!Привет мир!Привет мир!Привет мир!Привет мир!Привет мир!Привет мир!Привет мир!Привет мир!Привет мир!Привет мир!Привет мир!Привет мир!Привет мир!Привет мир!Привет мир!Привет мир!Привет мир!Привет мир!Привет мир!Привет мир!Привет мир!Привет мир!Привет мир!Привет мир!Привет мир!Привет мир!Привет мир!Привет мир!Привет мир!Привет мир!Привет мир!Привет мир!Привет мир!Привет мир!Привет мир!Привет мир!Привет мир!Привет мир!Привет мир!Привет мир!Привет мир!Привет мир!Привет мир!Привет мир!Привет мир!Привет мир!Привет мир!Привет мир!Привет мир!Привет мир!Привет мир!Привет мир!Привет мир!\n"
     ]
    },
    {
     "data": {
      "text/plain": [
       "undefined"
      ]
     },
     "execution_count": 30,
     "metadata": {},
     "output_type": "execute_result"
    }
   ],
   "source": [
    "function StringBuilder() {\n",
    "    return {\n",
    "        strs: [],\n",
    "        len: 0,\n",
    "        append: function (str) {\n",
    "            this.strs[this.len++] = str;\n",
    "            return this;\n",
    "        },\n",
    "        toString: function () {\n",
    "            return this.strs.join(\"\");\n",
    "        }\n",
    "    };\n",
    "}\n",
    "\n",
    "var count = 20;\n",
    "var s = 'Привет мир!';\n",
    "\n",
    "var str = '';\n",
    "for (var i = 0; i < count; i++) {\n",
    "    str += s + s + s + s + s;\n",
    "}\n",
    "\n",
    "var stringBuilder = new StringBuilder();\n",
    "\n",
    "for (var i = 0; i < count; i++) {\n",
    "    stringBuilder.append(s).append(s).append(s).append(s).append(s);\n",
    "}\n",
    "\n",
    "var result = stringBuilder.toString();\n",
    "console.log(result);"
   ]
  },
  {
   "cell_type": "markdown",
   "metadata": {},
   "source": [
    "### Управляющие символы\n",
    "- Как на счет управляющих последовательностей?\n",
    "  - Замена зарезервированых символов их управляющими последовательностями\n",
    "  - Превентивная JavaScript внедрение\n",
    "- При использовании JavaScript на стороне клиента, зарезервированными символами являются `<`, `>`, `&`, `'` и `\"`\n",
    "\n",
    "```js\n",
    "var script = document.createElement('script');\n",
    "script.innerHTML = 'document.location = \\'http://bad_place.com\\'';\n",
    "document.body.appendChild(script);\n",
    "```\n",
    "\n",
    "- Выполняется когда происходит замена зарезервированного символа, его управляющей последовательностью\n",
    "  - Может быть добавлено к прототипу строки\n",
    "\n",
    "```js\n",
    "String.prototype.htmlEscape = function () {\n",
    "  let escapedStr = String(this)\n",
    "      .replace(/&/g, '&amp;');\n",
    "      .replace(/</g, '&lt;');\n",
    "      .replace(/>/g, '&gt;');\n",
    "      .replace(/\"/g, '&quot;');\n",
    "      .replace(/'/g, '&#39');\n",
    "  return escapedStr;\n",
    "}\n",
    "```\n"
   ]
  },
  {
   "cell_type": "markdown",
   "metadata": {},
   "source": [
    "### Расширения строковых методов\n",
    "\n",
    " - Обрезание строки\n",
    "\t- `string.trim()`, `string.trimLeft()`, `string.trimRight()`\n",
    "\t  - Поддерживается всеми современными браузерами\n",
    "\t  - Для старых браузеров используйте shim\n",
    "- `string.trimChars(chars)`, `string.trimLeftChars(chars)`, `string.trimRightChars(chars)`\n",
    "  - Удалить не-проблельные символы\n",
    "  - Нет нативной реализации"
   ]
  },
  {
   "cell_type": "code",
   "execution_count": 40,
   "metadata": {
    "collapsed": false
   },
   "outputs": [
    {
     "name": "stdout",
     "output_type": "stream",
     "text": [
      "обрезаем пробелы\n",
      "оригинал: !              хали гали пара трупер                !\n",
      "обрезка: !хали гали пара трупер!\n",
      "обрезать слева: !хали гали пара трупер                !\n",
      "обрезать справа: !              хали гали пара трупер!\n",
      "\n",
      "обрезка символов: пер\n",
      "оригинал: !хали гали пара трупер!\n",
      "обрезанная: !хали гали пара тру!\n",
      "обрезка слева: !хали гали пара трупер!\n",
      "обрезка справа: !хали гали пара тру!\n"
     ]
    },
    {
     "data": {
      "text/plain": [
       "undefined"
      ]
     },
     "execution_count": 40,
     "metadata": {},
     "output_type": "execute_result"
    }
   ],
   "source": [
    "(function () {\n",
    "if (!String.prototype.contains) {\n",
    "    String.prototype.contains = function (searchPattern) {\n",
    "        var patternLen = searchPattern.length;\n",
    "        for (var i = 0, length = this.length - patternLen; i < length; i++) {\n",
    "            var isMatch = true;\n",
    "            for (var j = 0; j < patternLen; j++) {\n",
    "                if (searchPattern[j] !== this[i + j]) {\n",
    "                    isMatch = false;\n",
    "                    break;\n",
    "                }\n",
    "            }\n",
    "            if (isMatch) {\n",
    "                return true;\n",
    "            }\n",
    "        }\n",
    "    }\n",
    "}\n",
    "\n",
    "if (!String.prototype.toCharArray) {\n",
    "    String.prototype.toCharArray = function () {\n",
    "        return this.split('');\n",
    "    }\n",
    "}\n",
    "\n",
    "if (!String.prototype.trimLeft) {\n",
    "    String.prototype.trimLeft = function () {\n",
    "        return this.replace(/^\\s+/, '');\n",
    "    }\n",
    "}\n",
    "if (!String.prototype.trimRight) {\n",
    "    String.prototype.trimRight = function () {\n",
    "        return this.replace(/\\s+$/, '');\n",
    "    }\n",
    "}\n",
    "\n",
    "if (!String.prototype.trim) {\n",
    "    String.prototype.trim = function () {\n",
    "        return this.trimLeft().trimRight();\n",
    "    }\n",
    "}\n",
    "\n",
    "if (!String.prototype.trimLeftChars) {\n",
    "    String.prototype.trimLeftChars = function (chars) {\n",
    "        var regEx = new RegExp('^[' + chars + ']+');\n",
    "        return this.replace(regEx, '');\n",
    "    }\n",
    "}\n",
    "\n",
    "if (!String.prototype.trimRightChars) {\n",
    "    String.prototype.trimRightChars = function (chars) {\n",
    "\n",
    "        var regEx = new RegExp('[' + chars + ']+$');\n",
    "        return this.replace(regEx, '');\n",
    "    }\n",
    "}\n",
    "\n",
    "if (!String.prototype.trimChars) {\n",
    "    String.prototype.trimChars = function (chars) {\n",
    "        return this.trimLeftChars(chars).trimRightChars(chars);\n",
    "    }\n",
    "}\n",
    "\n",
    "if (!String.prototype.htmlEscape) {\n",
    "    String.prototype.htmlEscape = function () {\n",
    "        return this.replace(/&/g, '&amp;').replace(/</g, '&lt;').replace(/>/g, '&gt;').replace(/\"/g, '&quot;').replace(/'/g, '&#39').replace(/ /g, '&nbsp;');\n",
    "    }\n",
    "}\n",
    "if (!String.prototype.padLeft) {\n",
    "    String.prototype.padLeft = function (count, char) {\n",
    "        char = char || ' ';\n",
    "        if (char.length > 1) {\n",
    "            return String(this);\n",
    "        }\n",
    "        if (this.length >= count) {\n",
    "            return String(this);\n",
    "        }\n",
    "        var str = String(this);\n",
    "        for (var i = 0, thisLen = str.length; i < count - thisLen; i++) {\n",
    "            str = char + str;\n",
    "        }\n",
    "        return str;\n",
    "    }\n",
    "}\n",
    "\n",
    "if (!String.prototype.padRight) {\n",
    "    String.prototype.padRight = function (count, char) {\n",
    "        char = char || ' ';\n",
    "        if (char.length > 1) {\n",
    "            return String(this);\n",
    "        }\n",
    "        if (this.length >= count) {\n",
    "            return String(this);\n",
    "        }\n",
    "        var str = String(this);\n",
    "        for (var i = 0, thisLen = this.length; i < count - thisLen; i++) {\n",
    "            str += char;\n",
    "        }\n",
    "        return str;\n",
    "    }\n",
    "}\n",
    "})();\n",
    "\n",
    "\n",
    "var str = '              хали гали пара трупер                ';\n",
    "\n",
    "console.log('обрезаем пробелы');\n",
    "console.log('оригинал: !' + str + '!');\n",
    "\n",
    "console.log('обрезка: !' + str.trim() + '!');\n",
    "console.log('обрезать слева: !' + str.trimLeft() + '!');\n",
    "console.log('обрезать справа: !' + str.trimRight() + '!');\n",
    "\n",
    "str = 'хали гали пара трупер';\n",
    "var chars = 'пер';\n",
    "\n",
    "console.log();\n",
    "console.log('обрезка символов: ' + chars);\n",
    "\n",
    "console.log('оригинал: !' + str + '!');\n",
    "console.log('обрезанная: !' + str.trimChars(chars) + '!');\n",
    "console.log('обрезка слева: !' + str.trimLeftChars(chars) + '!');\n",
    "console.log('обрезка справа: !' + str.trimRightChars(chars) + '!');"
   ]
  },
  {
   "cell_type": "markdown",
   "metadata": {},
   "source": [
    "-  Отступ строки\n",
    "- `str.padLeft(count [,char])`, `str.padRight(count [,char])`\n",
    "  - Сдвигает строку влево или вправо\n",
    "  - Заполняет пространство пробелами или другими символами\n",
    "  - Нет собственной реализации"
   ]
  },
  {
   "cell_type": "code",
   "execution_count": 39,
   "metadata": {
    "collapsed": false
   },
   "outputs": [
    {
     "name": "stdout",
     "output_type": "stream",
     "text": [
      "оригинал: \"Пример строки\"\n",
      "padLeft(30) ->   \"&nbsp;&nbsp;&nbsp;&nbsp;&nbsp;&nbsp;&nbsp;&nbsp;&nbsp;&nbsp;&nbsp;&nbsp;&nbsp;&nbsp;&nbsp;&nbsp;&nbsp;Пример&nbsp;строки\"\n",
      "padRight(30) ->  \"Пример&nbsp;строки&nbsp;&nbsp;&nbsp;&nbsp;&nbsp;&nbsp;&nbsp;&nbsp;&nbsp;&nbsp;&nbsp;&nbsp;&nbsp;&nbsp;&nbsp;&nbsp;&nbsp;\"\n",
      "padLeft(30) ->   \"-----------------Пример строки\"\n",
      "padRight(30) ->  \"Пример&nbsp;строки-----------------\"\n"
     ]
    },
    {
     "data": {
      "text/plain": [
       "undefined"
      ]
     },
     "execution_count": 39,
     "metadata": {},
     "output_type": "execute_result"
    }
   ],
   "source": [
    "var string = 'Пример строки';\n",
    "    console.log('оригинал: \"' + string + '\"');\n",
    "\n",
    "    console.log('padLeft(30) ->   \"' + string.padLeft(30).htmlEscape() + '\"');\n",
    "    console.log('padRight(30) ->  \"' + string.padRight(30).htmlEscape() + '\"');\n",
    "    console.log('padLeft(30) ->   \"' + string.padLeft(30,\"-\")+ '\"');\n",
    "    console.log('padRight(30) ->  \"' + string.padRight(30,\"-\").htmlEscape() + '\"');"
   ]
  }
 ],
 "metadata": {
  "kernelspec": {
   "display_name": "Javascript (Node.js)",
   "language": "javascript",
   "name": "javascript"
  },
  "language_info": {
   "file_extension": ".js",
   "mimetype": "application/javascript",
   "name": "javascript",
   "version": "7.5.0"
  }
 },
 "nbformat": 4,
 "nbformat_minor": 2
}
