{
 "cells": [
  {
   "cell_type": "markdown",
   "metadata": {},
   "source": [
    "# Циклы"
   ]
  },
  {
   "cell_type": "markdown",
   "metadata": {},
   "source": [
    "## Вызыает исполнение кода в области несколько раз\n",
    "\n",
    "### Что такое цикл?\n",
    "- Цикл это **управляющая конструкция** которая позволяет **повторять утверждение несколько раз**\n",
    "  - Позволяетт вызывать код в блоке определенное количество раз\n",
    "  - Позволяет вызывать код в блоке до тех пор пока выполняется условие\n",
    "  - Позволяет перебирать каждый из элементов выбранной коллекции\n",
    "- Циклы могут быть бесконечными.\n",
    "\n",
    "### цикл `while`\n",
    "\n",
    "- Самый просто и часто используемый тип циклов\n",
    "- Содержит **условие повторения**\n",
    "  - Так же называется **условным циклом**\n",
    "  - Типизируется не только `Булквым` значением\n",
    "  - Вызывает `true` или `false`\n",
    "    - `5`, `'non-empty'`, `{}`, интерпретируется как 'true'\n",
    "    - `0`, `''`, `null`, `undefined` будет интерпретировано как false\n",
    "\n",
    "```js\n",
    "while (condition) {\n",
    "    statements;\n",
    "}\n",
    "```\n",
    "\n",
    "### `while` цикл. Как это работает?\n",
    "- Базовый пример\n",
    "\n",
    "```js\n",
    "let counter = 0;\n",
    "while (counter < 10) {\n",
    "    console.log('Number : ' + counter);\n",
    "    counter += 1;\n",
    "}\n",
    "```"
   ]
  },
  {
   "cell_type": "markdown",
   "metadata": {},
   "source": [
    "- Вычисляет и печатает сумму первых N натуральных чисел"
   ]
  },
  {
   "cell_type": "code",
   "execution_count": null,
   "metadata": {
    "collapsed": false
   },
   "outputs": [],
   "source": [
    "var n = 123,\n",
    "    sum = 0,\n",
    "    operands = 'Сумма 123';\n",
    "\n",
    "while(n > 0) {\n",
    "    sum += n;\n",
    "    n -= 1;\n",
    "    operands += '+' + n;\n",
    "}\n",
    "\n",
    "console.log(operands + ' = ' + sum);"
   ]
  },
  {
   "cell_type": "markdown",
   "metadata": {},
   "source": [
    "- Проверяет является ли число простым или нет."
   ]
  },
  {
   "cell_type": "code",
   "execution_count": null,
   "metadata": {
    "collapsed": false
   },
   "outputs": [],
   "source": [
    "var number = Math.floor((Math.random() * 10000));\n",
    "function onCheckPrime(number) {\n",
    "        divider = 2,\n",
    "        maxDivider = Math.sqrt(number),\n",
    "        isPrime = true;\n",
    "    \n",
    "    /*  число X  является простым, если оно больше 1 \n",
    "    и при этом делится без остатка только на 1 и на X */\n",
    "    \n",
    "    while (isPrime && (divider <= maxDivider)) {\n",
    "        if (number % divider == 0) {\n",
    "            isPrime = false;\n",
    "        }\n",
    "        divider++;\n",
    "    }\n",
    "    console.log(`Число ${number}  ${isPrime ? '' : ' не '} простое`);\n",
    "}\n",
    "\n",
    "onCheckPrime(number)\n"
   ]
  },
  {
   "cell_type": "markdown",
   "metadata": {},
   "source": [
    "- Вычисляет и печатает сумму первых N натуральных чисел"
   ]
  },
  {
   "cell_type": "code",
   "execution_count": null,
   "metadata": {
    "collapsed": false
   },
   "outputs": [],
   "source": [
    "function onPrintSum(n) {\n",
    "        number = 1,\n",
    "        sum = 1,\n",
    "        result = 'Сумма 1';\n",
    "\n",
    "    while (number < n) {\n",
    "        number += 1;\n",
    "        sum += number ;\n",
    "        result += '+' + number;\n",
    "    }\n",
    "\n",
    "    result += ' = ' + sum;\n",
    "   console.log(result);\n",
    "}\n",
    "onPrintSum(214)"
   ]
  },
  {
   "cell_type": "code",
   "execution_count": null,
   "metadata": {
    "collapsed": false
   },
   "outputs": [],
   "source": [
    "listArr = new Array()\n",
    "\n",
    "while (number % 10) {\n",
    "    listArr.push(number);\n",
    "    console.log(number);\n",
    "    number = Math.floor((Math.random() * 10000));\n",
    "}\n",
    "\n",
    "console.log('Найден -> ' + number)"
   ]
  },
  {
   "cell_type": "markdown",
   "metadata": {},
   "source": [
    "### Использование break оператора\n",
    "- `break` прерывает выполнение цикла. И вызывает код следующий далее за циклом."
   ]
  },
  {
   "cell_type": "code",
   "execution_count": null,
   "metadata": {
    "collapsed": false
   },
   "outputs": [],
   "source": [
    "function onCalcFact(number) {\n",
    "    \n",
    "    var fact = 1,\n",
    "        factStr = 'n! = ';\n",
    "\n",
    "    while (number) {\n",
    "        if (number === 1) {\n",
    "            break;\n",
    "        }\n",
    "\n",
    "        factStr += number + '*';\n",
    "        fact *= number;\n",
    "        number -= 1;\n",
    "    }\n",
    "\n",
    "    factStr += '1 = ' + fact;\n",
    "    return factStr;\n",
    "}\n",
    "\n",
    "onCalcFact(23)"
   ]
  },
  {
   "cell_type": "markdown",
   "metadata": {},
   "source": [
    "### do-while цикл\n",
    "\n",
    "- Имеет другую структуру:\n",
    "- Утверждение в блоке выполняется\n",
    "  - Пока условие выозвращает `true`\n",
    "- Цикл всегда  **выполняется хотя бы один раз**"
   ]
  },
  {
   "cell_type": "markdown",
   "metadata": {},
   "source": [
    "- вычислить факториал"
   ]
  },
  {
   "cell_type": "code",
   "execution_count": null,
   "metadata": {
    "collapsed": false
   },
   "outputs": [],
   "source": [
    "function onCalcFact(number) {\n",
    "    var fact = 1,\n",
    "        factStr = 'n! = ';\n",
    "\n",
    "    do {\n",
    "        fact *= number;\n",
    "        factStr += number + '*'\n",
    "        number--;\n",
    "    } while (number);\n",
    "\n",
    "    factStr += ' = ' + fact;\n",
    "    return factStr;\n",
    "}\n",
    "\n",
    "onCalcFact(4)"
   ]
  },
  {
   "cell_type": "markdown",
   "metadata": {},
   "source": [
    "- вычислить N^M"
   ]
  },
  {
   "cell_type": "code",
   "execution_count": null,
   "metadata": {
    "collapsed": false
   },
   "outputs": [],
   "source": [
    "function onPower(n,m) {\n",
    "    let power = 0,\n",
    "        product = 1,\n",
    "        productStr = '';\n",
    "\n",
    "    do {\n",
    "        product *= n;\n",
    "        productStr += n;\n",
    "        if (power < m - 1) {\n",
    "            productStr += '*';\n",
    "        }\n",
    "        power++;\n",
    "    } while (power < m);\n",
    "\n",
    "    productStr += ' = ' + product;\n",
    "    return productStr\n",
    "}\n",
    "onPower(2,5)"
   ]
  },
  {
   "cell_type": "markdown",
   "metadata": {},
   "source": [
    "- Конвертиртировать число с десятичного представления до бинарного"
   ]
  },
  {
   "cell_type": "code",
   "execution_count": null,
   "metadata": {
    "collapsed": false
   },
   "outputs": [],
   "source": [
    "function convertToBin(n) {\n",
    "    let dec = n,\n",
    "    result = '';\n",
    "\n",
    "do {\n",
    "    result = (dec & 1) + result;\n",
    "    dec >>= 1;\n",
    "} while(dec > 0)\n",
    "    return result\n",
    "}\n",
    "\n",
    "convertToBin(21)"
   ]
  },
  {
   "cell_type": "markdown",
   "metadata": {},
   "source": [
    "### Цикл `for`\n",
    "- Обычнно синтаксис цикла `for` выглядит так:\n",
    "- Содержит\n",
    "  - **Проинициализованную переменную - счетчик**\n",
    "  - **Проверяет выражение на логическое соответствие**\n",
    "  - **Обновляет счетчик**\n",
    "  - **Цикл заключается в блоке**\n",
    "  \n",
    " \n",
    "```js\n",
    "for (инициализация; условие; обновление) {\n",
    "    утверждение;\n",
    "}\n",
    "```\n",
    "\n",
    "### Выражение инициализации\n",
    "\n",
    "```js\n",
    "for (let number = 0; number < 10; number += 1) {\n",
    "    // Можно использовать номер сдесь\n",
    "}\n",
    "// Не использовать номер сдесь\n",
    "```\n",
    "\n",
    "- Вызывается единожды, перед входом в цикл\n",
    "- Обычно приименяется декларируется переменная счетчик\n",
    "  - В выражении инициализапции может быть задекларировано множество переменных\n",
    "\n",
    "### Условие  цикла\n",
    "- Вызывается перед каждой итерацией\n",
    "  - Если возвращается **true**, происходит переходт в тело цикла\n",
    "  - Если возвращается **false**, цикл завершается\n",
    "\n",
    "```js\n",
    "  for (let number = 0; number < 10; number += 1) {\n",
    "    // Можно использовать номер сдесь\n",
    "}\n",
    "\n",
    "// Не использовать номер сдесь\n",
    "```\n",
    "\n",
    "### Выражение обновления\n",
    "\n",
    "```js\n",
    "for (let number = 0; number < 10; number += 1) {\n",
    "    // Можно использовать номер сдесь\n",
    "}\n",
    "\n",
    "// Не использовать номер сдесь\n",
    "```\n",
    "\n",
    "- Вызывается в каждой итерации **после** завершения выполнения операций в теле цикла\n",
    "- Обычно используется для обновления счетчика\n",
    "  - `for` цик поддерживает список декларированных переменных, разделенным символов `,` (запятая) operator"
   ]
  },
  {
   "cell_type": "markdown",
   "metadata": {},
   "source": [
    "- вычислить N^M"
   ]
  },
  {
   "cell_type": "code",
   "execution_count": null,
   "metadata": {
    "collapsed": false
   },
   "outputs": [],
   "source": [
    "function onPower(N,M) {\n",
    "    var\tproduct = 1,\n",
    "        productStr = \"\";\n",
    "\n",
    "    for (let power = 0; power < M; power+=1) {\n",
    "        product *= N;\n",
    "        productStr += N;\n",
    "        if (power != M - 1) {\n",
    "            productStr += '*';\n",
    "        }\n",
    "    }\n",
    "\n",
    "    productStr += ' = ' + product;\n",
    "    return productStr;\n",
    "}\n",
    "onPower(3,6)"
   ]
  },
  {
   "cell_type": "markdown",
   "metadata": {},
   "source": [
    "- вычислить факториал"
   ]
  },
  {
   "cell_type": "code",
   "execution_count": null,
   "metadata": {
    "collapsed": false
   },
   "outputs": [],
   "source": [
    "function fact(n){\n",
    "    let factorial = 1;\n",
    "    const N = n;\n",
    "\n",
    "    for (let i = 1; i <= N; i += 1) {\n",
    "        factorial *= i;\n",
    "    }\n",
    "    return factorial\n",
    "}\n",
    "\n",
    "fact(10)"
   ]
  },
  {
   "cell_type": "markdown",
   "metadata": {},
   "source": [
    "- полный прмимер"
   ]
  },
  {
   "cell_type": "code",
   "execution_count": null,
   "metadata": {
    "collapsed": false
   },
   "outputs": [],
   "source": [
    "for (let i = 1, sum = 1, N = 128; i <= N; i *= 2, sum += i) {\n",
    "    console.log('i=' + i + ', sum=' +sum);\n",
    "}"
   ]
  },
  {
   "cell_type": "markdown",
   "metadata": {},
   "source": [
    "### Вложенные циклы?\n",
    "-  **комопозиция циклов** называется вложенными циклами\n",
    "  - Цикл находится внутри другого цикла\n",
    "  \n",
    "  ```js\n",
    "    for (let i = 0; i < 10; i += 2) {\n",
    "        for (let j = 0; j < 20; j += 1) {\n",
    "            while(i !== j) {\n",
    "                console.log(i);\n",
    "                j += 1;\n",
    "            }\n",
    "        }\n",
    "    }\n",
    "```"
   ]
  },
  {
   "cell_type": "code",
   "execution_count": null,
   "metadata": {
    "collapsed": false
   },
   "outputs": [],
   "source": [
    "function onDrawTriangle(n) {\n",
    "\n",
    "    for (let row = 1; row <= n; row += 1) {\n",
    "        for (let column = 1; column <= row; column += 1) {\n",
    "            process.stdout.write(column + ' ');\n",
    "        }\n",
    "        console.log(\"\\n\")\n",
    "    }\n",
    "}\n",
    "\n",
    "onDrawTriangle(6)"
   ]
  },
  {
   "cell_type": "markdown",
   "metadata": {},
   "source": [
    "- Простые числа"
   ]
  },
  {
   "cell_type": "code",
   "execution_count": null,
   "metadata": {
    "collapsed": false
   },
   "outputs": [],
   "source": [
    "function onFindPrimes(start,end) {\n",
    "   \n",
    "    for (let number = start; number <= end; number+=1) {\n",
    "        const maxDivider = Math.sqrt(number);\n",
    "\n",
    "        let isPrime = true,\n",
    "            divider = 2;\n",
    "\n",
    "        while (divider <= maxDivider) {\n",
    "            if (number % divider === 0) {\n",
    "                isPrime = false;\n",
    "                break;\n",
    "            }\n",
    "\n",
    "            divider += 1;\n",
    "        }\n",
    "\n",
    "        if (isPrime) {\n",
    "            process.stdout.write(number + ', ');\n",
    "        }\n",
    "    }\n",
    "}\n",
    "\n",
    "onFindPrimes(3,34)"
   ]
  },
  {
   "cell_type": "markdown",
   "metadata": {},
   "source": [
    "### `цикл for-in`\n",
    "- `for-in` цикл **перебирает все параметры объекта**\n",
    "  - Когда объект является **массивом**, **nodeList - коллекция узлов** or **liveNodeList - живая коллекция узлов**, `for-in` прохводит по всем  **элементам**\n",
    "  - Если объект не является коллекцией, `for-in` итерация происходит по **его свойствам**\n",
    "\n",
    "- Итерация по листу параметров **в документе**\n",
    "\n",
    "```js\n",
    "// propName это строка - имя параметра\n",
    "for (const propName in document) {\n",
    "    console.log(document[propName]);\n",
    "}\n",
    "```"
   ]
  },
  {
   "cell_type": "markdown",
   "metadata": {
    "collapsed": false
   },
   "source": [
    "- распечатать все"
   ]
  },
  {
   "cell_type": "code",
   "execution_count": null,
   "metadata": {
    "collapsed": false
   },
   "outputs": [],
   "source": [
    "function printAll(obj) {\n",
    "    console.log('--------------------------');\n",
    "\n",
    "    for (const propertyName in obj) {\n",
    "        console.log('obj[' + propertyName + '] = ' + obj[propertyName]);\n",
    "    }\n",
    "\n",
    "    console.log('--------------------------');\n",
    "}\n",
    "\n",
    "var arr = [1, 2, 3, 4, 5, 6, 7, 8, 9];\n",
    "\n",
    "\n",
    "var obj = {\n",
    "    firstName: 'Вася',\n",
    "    lastName: 'Пупкин',\n",
    "    age: 23,\n",
    "    fullName: function () {\n",
    "        return this.firstName + \" \" + this.lastName\n",
    "    },\n",
    "    toString: function () {\n",
    "        return 'Name: ' + this.fullName() + '\\nAge: ' + this.age\n",
    "    }\n",
    "};\n",
    "\n",
    "\n",
    "printAll(arr);\n",
    "printAll(obj);"
   ]
  },
  {
   "cell_type": "code",
   "execution_count": null,
   "metadata": {
    "collapsed": false
   },
   "outputs": [],
   "source": [
    "function printObject(obj) {\n",
    "    console.log('--------------------------');\n",
    "\n",
    "    for (const propertyName in obj) {\n",
    "        if ((typeof obj[propertyName]) != 'function') {\n",
    "            console.log('obj[' + propertyName + '] = ' + obj[propertyName]);\n",
    "        } else{\n",
    "            console.log('obj[' + propertyName + '] = ' + obj[propertyName]());\n",
    "        }\n",
    "    }\n",
    "\n",
    "    console.log('--------------------------');\n",
    "}\n",
    "printObject(obj);"
   ]
  },
  {
   "cell_type": "markdown",
   "metadata": {},
   "source": [
    "### `for-of` loop\n",
    "- `for-of` цикл **перебирает элементы в массиве**\n",
    "  - Может использоваться только в массивах, и массиво-подобных обьектах"
   ]
  },
  {
   "cell_type": "code",
   "execution_count": null,
   "metadata": {
    "collapsed": false
   },
   "outputs": [],
   "source": [
    "var arr = ['One', 'Two', 'Three', 'Four'];\n",
    "    for (const n of arr) {\n",
    "        console.log(n);\n",
    "    }"
   ]
  },
  {
   "cell_type": "code",
   "execution_count": null,
   "metadata": {
    "collapsed": true
   },
   "outputs": [],
   "source": []
  }
 ],
 "metadata": {
  "kernelspec": {
   "display_name": "Javascript (Node.js)",
   "language": "javascript",
   "name": "javascript"
  },
  "language_info": {
   "file_extension": ".js",
   "mimetype": "application/javascript",
   "name": "javascript",
   "version": "7.5.0"
  }
 },
 "nbformat": 4,
 "nbformat_minor": 2
}
