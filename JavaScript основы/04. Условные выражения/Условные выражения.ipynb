{
 "cells": [
  {
   "cell_type": "markdown",
   "metadata": {},
   "source": [
    "# `if` и `if-else`"
   ]
  },
  {
   "cell_type": "markdown",
   "metadata": {},
   "source": [
    "## Реализация условной логики\n",
    "\n",
    "### `if` утверждение\n",
    "- Самое простое условное утверждение\n",
    "- Позволяет создавать условия проверки утверждения\n",
    "- Создает ветки исполняемого кода, в зависимости от соответствия условию\n",
    "\n",
    "```js\n",
    "if (condition) {\n",
    "    statements;\n",
    "}\n",
    "```\n",
    "### Условия и утверждения\n",
    "- Условие может быть:\n",
    "  - Булевой переменной\n",
    "  - Булевым логическим выражением\n",
    "  - Выражения сравнения\n",
    "  - Цифры,объекты, функции, все что угодно!\n",
    "- Утверждение может содержать любые типы данных\n",
    "- Утверждение может быть:\n",
    "  - Простым утверждением, заканчивающимся `';'`\n",
    "  - Блоком заключенным в фигурные скобки `'{}'``\n",
    "\n",
    "### Как это работает?\n",
    "- Условие оценивает\n",
    "  - Если  `true`- подобное условие, утверждение исполняется\n",
    "  - если `false`-подобное, утверждение пропускается"
   ]
  },
  {
   "cell_type": "code",
   "execution_count": 1,
   "metadata": {
    "collapsed": false
   },
   "outputs": [
    {
     "name": "stdout",
     "output_type": "stream",
     "text": [
      "Большее: 5\n",
      " это номер\n"
     ]
    },
    {
     "data": {
      "text/plain": [
       "undefined"
      ]
     },
     "execution_count": 1,
     "metadata": {},
     "output_type": "execute_result"
    }
   ],
   "source": [
    "function onFindBigger(first,second) {\n",
    "    bigger = first;\n",
    "\n",
    "    if (bigger < second) {\n",
    "        bigger = second;\n",
    "    }\n",
    "\n",
    "    console.log(\"Большее: \" + bigger);\n",
    "}\n",
    "\n",
    "function onIsNumber(selector) {\n",
    "    var str = selector;\n",
    "    name = selector.substr(4);\n",
    "\n",
    "    if (+str) { // Если сттрока  является номером, +str не будет NaN\n",
    "        console.log(name + ' это номер');\n",
    "    }\n",
    "\n",
    "    if (!(+str)) { // если строка не является номером, +str  будет NaN\n",
    "        console.log(name + ' это не номер');\n",
    "    }\n",
    "}\n",
    "\n",
    "onFindBigger(2,5)\n",
    "onIsNumber(\"12\")"
   ]
  },
  {
   "cell_type": "markdown",
   "metadata": {},
   "source": [
    "### `if-else` утверждение\n",
    "- Более комплексное и применимое утверждение\n",
    "- Вызывает код в одной ветке если `true` и в другой если `false`\n",
    "\n",
    "```js\n",
    "if (expression) {\n",
    "    statement1;\n",
    "} else {\n",
    "    statement2;\n",
    "}\n",
    "```\n",
    "### Как это работает?\n",
    "- Условие оценивает\n",
    "  - Если `true`-подобное, вызывается первое утверждение\n",
    "  - Если `false`-подобное, вызывается второе утверждение\n",
    "- Проверяет число на четность\n"
   ]
  },
  {
   "cell_type": "code",
   "execution_count": 10,
   "metadata": {
    "collapsed": false
   },
   "outputs": [
    {
     "name": "stdout",
     "output_type": "stream",
     "text": [
      "Число 23 не четное\n",
      "Это не число\n"
     ]
    },
    {
     "data": {
      "text/plain": [
       "undefined"
      ]
     },
     "execution_count": 10,
     "metadata": {},
     "output_type": "execute_result"
    }
   ],
   "source": [
    "function onEvenOdd(str) {\n",
    "    number = +str;\n",
    "\n",
    "    if (number % 2) {\n",
    "        console.log('Число ' + number + ' не четное');\n",
    "    } else {\n",
    "        console.log('Число ' + number + ' четное');\n",
    "    }\n",
    "}\n",
    "\n",
    "function onIsNumber(str) {\n",
    "    if (+str) {\n",
    "        console.log('Это число');\n",
    "    } else {\n",
    "        console.log('Это не число');\n",
    "    }\n",
    "}\n",
    "\n",
    "onEvenOdd(23)\n",
    "onIsNumber(\"pivet\")"
   ]
  },
  {
   "cell_type": "markdown",
   "metadata": {},
   "source": [
    "### Вложенные  `if` утверждения\n",
    "\n",
    "- `if` и `if-else` могут быть **вложенными**, то есть использоваться внутри `if` и `else` утверждений\n",
    "-\n",
    "```js\n",
    "if (expression) {\n",
    "  if (expression) {\n",
    "    statement;\n",
    "  } else {\n",
    "    statement;\n",
    "  }\n",
    "} else {\n",
    "  statement;\n",
    "}\n",
    "```\n",
    "\n",
    "- Всегда используйте `{ … }` чтобы избежать неоднозначности\n",
    "  - Даже когда используется одноуровневое условие\n",
    "- Старайтесь избегать появления более 3 вложенным `if` утверждений\n",
    "- Старайтесь делать код более читабельным\n"
   ]
  },
  {
   "cell_type": "code",
   "execution_count": 11,
   "metadata": {
    "collapsed": false
   },
   "outputs": [
    {
     "name": "stdout",
     "output_type": "stream",
     "text": [
      "Число четное\n",
      "123 < 22\n"
     ]
    },
    {
     "data": {
      "text/plain": [
       "undefined"
      ]
     },
     "execution_count": 11,
     "metadata": {},
     "output_type": "execute_result"
    }
   ],
   "source": [
    "function onCompare(first,second) {\n",
    "    if (first === second) {\n",
    "        console.log(first + ' = ' + second);\n",
    "    } else {\n",
    "        if (first > second) {\n",
    "            console.log(first + ' > ' + second);\n",
    "        } else {\n",
    "            console.log(first + ' < ' + second);\n",
    "        }\n",
    "    }\n",
    "}\n",
    "\n",
    "function onOddEven(str) {\n",
    "        n = +str;\n",
    "    if (n) {\n",
    "        if (n % 2) {\n",
    "            console.log('Число нечетное');\n",
    "        } else {\n",
    "            console.log('Число четное');\n",
    "        }\n",
    "    } else { //n is NaN\n",
    "        console.log('Это не число!');\n",
    "    }\n",
    "}\n",
    "\n",
    "onOddEven(\"22\")\n",
    "onCompare(\"123\",\"22\")"
   ]
  },
  {
   "cell_type": "markdown",
   "metadata": {},
   "source": [
    "### Множество `if-else-if-else-…`\n",
    "- Иногда Вам надо использовать `if` проверку условия  в `else` блоке\n",
    "  - Здесь может быть применимо `else if` выражение:\n"
   ]
  },
  {
   "cell_type": "code",
   "execution_count": 12,
   "metadata": {
    "collapsed": false
   },
   "outputs": [
    {
     "data": {
      "text/plain": [
       "undefined"
      ]
     },
     "execution_count": 12,
     "metadata": {},
     "output_type": "execute_result"
    }
   ],
   "source": [
    "function onCheckNumbers(text) {\n",
    "        vowels = 0,\n",
    "        other = 0,\n",
    "        numbers = 0;\n",
    "\n",
    "    for (var i = 0; i < text.length; i+=1) {\n",
    "        var character = text[i];\n",
    "        if (character === 'a' || character === 'A') {\n",
    "            vowels+=1;\n",
    "        } else if (character === 'e' || character === 'E') {\n",
    "            vowels+=1;\n",
    "        } else if (character === 'u' || character === 'U') {\n",
    "            vowels+=1;\n",
    "        } else if (character === 'o' || character === 'o') {\n",
    "            vowels+=1;\n",
    "        } else if (character === 'i' || character === 'i') {\n",
    "            vowels+=1;\n",
    "        } else if ('0' <= character && character <= '9') {\n",
    "            numbers+=1;\n",
    "        } else {\n",
    "            other+=1;\n",
    "        }\n",
    "    }\n",
    "    console.log(\"Гласных: \" + vowels);\n",
    "    console.log(\"Цифр: \" + numbers);\n",
    "    console.log(\"Других: \" + other);\n",
    "}"
   ]
  },
  {
   "cell_type": "code",
   "execution_count": 5,
   "metadata": {
    "collapsed": false
   },
   "outputs": [
    {
     "name": "stdout",
     "output_type": "stream",
     "text": [
      "Гласных: 1\n",
      "Цифр: 2\n",
      "Других: 7\n"
     ]
    },
    {
     "data": {
      "text/plain": [
       "undefined"
      ]
     },
     "execution_count": 5,
     "metadata": {},
     "output_type": "execute_result"
    }
   ],
   "source": [
    "onCheckNumbers('dsadfsfs32')"
   ]
  },
  {
   "cell_type": "markdown",
   "metadata": {},
   "source": [
    "### Несколько вариантов условных переходов (`switch-case`)\n",
    "- Выбирает условие из перечня доступных вариантов с помощью `switch`"
   ]
  },
  {
   "cell_type": "code",
   "execution_count": 6,
   "metadata": {
    "collapsed": false
   },
   "outputs": [
    {
     "name": "stdout",
     "output_type": "stream",
     "text": [
      "Вторник\n"
     ]
    },
    {
     "data": {
      "text/plain": [
       "undefined"
      ]
     },
     "execution_count": 6,
     "metadata": {},
     "output_type": "execute_result"
    }
   ],
   "source": [
    "function onDay(dayIndex) {\n",
    "    var day;\n",
    "\n",
    "    switch (dayIndex) {\n",
    "        case 1: day = \"Понедельник\"; break;\n",
    "        case 2: day = \"Вторник\"; break;\n",
    "        case 3: day = \"Среда\"; break;\n",
    "        case 4: day = \"Четверг\"; break;\n",
    "        case 5: day = \"Пятница\"; break;\n",
    "        case 6: day = \"Суббота\"; break;\n",
    "        case 7: day = \"Воскресенье\"; break;\n",
    "        default: day = \"Ошибка ввода\"; break;\n",
    "    }\n",
    "\n",
    "    console.log(day);\n",
    "}\n",
    "\n",
    "onDay(2)"
   ]
  },
  {
   "cell_type": "markdown",
   "metadata": {},
   "source": [
    "- Выражение вычисляется\n",
    "- Когда одна из указанных констант соответствует выражению\n",
    "- Если нет не одной константы соответствующей выражению\n",
    "  - Если есть выражение пол умолчанию, то оно вызывается\n",
    "  - В противном случае проверка завершается и управление кодом передается за пределы блока\n",
    "\n",
    "### Поведение \"следовать дальше\" в  `switch`\n",
    "- JavaScript поддерживает поведение \"следовать дальше\"\n",
    "  - т.е если в `case` утверждении отсутствует `break`, код продолжает выполняться дальше\n",
    "    - Вплоть до появления оператора `break`"
   ]
  },
  {
   "cell_type": "code",
   "execution_count": 7,
   "metadata": {
    "collapsed": false
   },
   "outputs": [
    {
     "data": {
      "text/plain": [
       "undefined"
      ]
     },
     "execution_count": 7,
     "metadata": {},
     "output_type": "execute_result"
    }
   ],
   "source": [
    "function onDay(dayIndex) {\n",
    "\n",
    "    var result;\n",
    "\n",
    "    switch (dayIndex) {\n",
    "        case 1:\n",
    "        case 2:\n",
    "        case 3:\n",
    "        case 4:\n",
    "        case 5:\n",
    "            result = 'Рабочий день';\n",
    "            break;\n",
    "        case 6:\n",
    "        case 7:\n",
    "            result = 'Выходной';\n",
    "            break;\n",
    "        default: result = 'Ошибка!'; break;\n",
    "    }\n",
    "\n",
    "    console.log(result);\n",
    "}\n",
    "onDay(2)"
   ]
  },
  {
   "cell_type": "markdown",
   "metadata": {
    "collapsed": false
   },
   "source": [
    "### Выражения в блоке `case`\n",
    "- В JavaScript, `case` метка может содержать выражения\n",
    "  - Используется когда надо проверить диапазоны\n",
    "    - Тем не менее не очень читабельно, поэтому лучше применять  `if-else` утверждения"
   ]
  },
  {
   "cell_type": "code",
   "execution_count": 5,
   "metadata": {
    "collapsed": false
   },
   "outputs": [
    {
     "name": "stdout",
     "output_type": "stream",
     "text": [
      "Хорошо 4\n"
     ]
    },
    {
     "data": {
      "text/plain": [
       "undefined"
      ]
     },
     "execution_count": 5,
     "metadata": {},
     "output_type": "execute_result"
    }
   ],
   "source": [
    "function onScore(str) {\n",
    "\n",
    "    var  score = +str;\n",
    "\n",
    "    switch (true) {\n",
    "        case !score: // true пока счет NaN\n",
    "        case score < 2 || score > 6:\n",
    "            console.log('Ошибка ввода');\n",
    "            break;\n",
    "        case score < 3.5:\n",
    "            console.log('Плохо ' + score);\n",
    "            break;\n",
    "        case score < 4.5:\n",
    "            console.log('Хорошо ' + score);\n",
    "            break;\n",
    "        case score < 5.5:\n",
    "            console.log('Очень хорошо ' + score);\n",
    "            break;\n",
    "        default:\n",
    "            console.log('Превосходно ' + score);\n",
    "            break;\n",
    "    }\n",
    "}\n",
    "onScore(4)"
   ]
  },
  {
   "cell_type": "code",
   "execution_count": 7,
   "metadata": {
    "collapsed": false
   },
   "outputs": [
    {
     "name": "stdout",
     "output_type": "stream",
     "text": [
      "Вывод: Твое Имя?\n"
     ]
    },
    {
     "data": {
      "text/plain": [
       "undefined"
      ]
     },
     "execution_count": 7,
     "metadata": {},
     "output_type": "execute_result"
    }
   ],
   "source": [
    "function onFallThrough(output) {\n",
    "    var foo = output,\n",
    "    output = 'Вывод: ';\n",
    "\n",
    "    switch (foo) {\n",
    "        case 10:\n",
    "            output += 'Так ';\n",
    "        case 1:\n",
    "            output += 'это ';\n",
    "        case 2:\n",
    "            output += 'Твое ';\n",
    "        case 3:\n",
    "            output += 'Имя';\n",
    "        case 4:\n",
    "            output += '?';\n",
    "            console.log(output);\n",
    "            break;\n",
    "        case 5:\n",
    "            output += '!';\n",
    "            console.log(output);\n",
    "            break;\n",
    "        default:\n",
    "            console.log('Пожалуйста введите число о 0 до 6!');\n",
    "    }\n",
    "}\n",
    "\n",
    "onFallThrough(2)"
   ]
  },
  {
   "cell_type": "markdown",
   "metadata": {},
   "source": [
    "### Истинные и ложные значения\n",
    "- Каждый тип в JavaScript может быть выражен через булево значение\n",
    "  - Так как вызываеются истинные (TRUE-подобные) и ложные (FALSE-подобные) значения\n",
    "- Эти значения ложные\n",
    "  -\t`false`, `0`, `\"\"` / `''`, `null`, `undefined`, `NaN`\n",
    "- Все остальные значения истинные\n",
    "- Информация: http://www.sitepoint.com/javascript-truthy-falsy/"
   ]
  },
  {
   "cell_type": "code",
   "execution_count": null,
   "metadata": {
    "collapsed": true
   },
   "outputs": [],
   "source": []
  }
 ],
 "metadata": {
  "kernelspec": {
   "display_name": "Javascript (Node.js)",
   "language": "javascript",
   "name": "javascript"
  },
  "language_info": {
   "file_extension": ".js",
   "mimetype": "application/javascript",
   "name": "javascript",
   "version": "7.5.0"
  }
 },
 "nbformat": 4,
 "nbformat_minor": 2
}
