{
 "cells": [
  {
   "cell_type": "markdown",
   "metadata": {},
   "source": [
    "# Функции\n",
    "### Что такое функции?\n",
    "\n",
    "- **функция** является, своего рода, строительным блоком, который решает элементарную задачу\n",
    "  - Проименованная часть кода, которая может вызываться в других частях кода\n",
    "  - Можно **передавать параметры** и **возвращать результат**\n",
    "- Функции позволяют програмистам строить программы \"по кусочкам\"\n",
    "\n",
    "### Почему надо использовать функции?\n",
    "\n",
    "- Более **управляемое** программирование\n",
    "  - **Разделение больших** проблем по **маленьким кусочкам**\n",
    "  - **Улучшение организации** структуры программы\n",
    "  - Улучшение  **читабельности** и **восприятия** кода\n",
    "  - введение **абстрактности**\n",
    "- Повторное использование кода\n",
    "    - Удобство **рефакторинга кода**\n",
    "\n",
    "### Объявление и создание функций\n",
    "\n",
    "- функции могут именоваться\n",
    "  - Используется для вызова функций\n",
    "  - Описывает назначение функции\n",
    "- В Функциях JavaScript не надо указывать возвращаемый тип данных\n",
    "  - Каждая функция всегда возвращает значение"
   ]
  },
  {
   "cell_type": "code",
   "execution_count": 3,
   "metadata": {
    "collapsed": false
   },
   "outputs": [
    {
     "name": "stdout",
     "output_type": "stream",
     "text": [
      "Основы JavaScript\n",
      "Курсы Веб-программирования\n"
     ]
    },
    {
     "data": {
      "text/plain": [
       "undefined"
      ]
     },
     "execution_count": 3,
     "metadata": {},
     "output_type": "execute_result"
    }
   ],
   "source": [
    "function printLogo() {\n",
    "    console.log(\"Основы JavaScript\");\n",
    "    console.log(\"Курсы Веб-программирования\");\n",
    "}\n",
    "\n",
    "printLogo()"
   ]
  },
  {
   "cell_type": "markdown",
   "metadata": {},
   "source": [
    "### Способы определения функций\n",
    "  - Используя конструктор для обьекта функции\n",
    "\n",
    "    ```js\n",
    "    var print = new Function(\"console.log('Hello')\");\n",
    "    ```\n",
    "  - С помошью обьявления функции\n",
    "\n",
    "    ```js\n",
    "    function print() { console.log(\"Hello\") };\n",
    "    ```\n",
    "\n",
    "  - С помошью выражения функции\n",
    "\n",
    "    ```js\n",
    "    var print = function() { console.log(\"Hello\") };\n",
    "    var print = function printFunc() { console.log(\"Hello\") };\n",
    "    ```\n",
    "\n",
    "### Вызов функций\n",
    "- Чтобы вызвать функцию достаточно использовать:\n",
    "  - Имя функции\n",
    "  - Круглые скобки\n",
    "  - Точку с запятой (`;`)\n",
    "    - Опционально но не обязательно\n",
    "- Эти действия вызовут код функци на исполнение:\n",
    "\n",
    "- Функция может вызывать:\n",
    "  - Другую функцию\n",
    "  - Саму себя (известна как **рекурсивная функция**)"
   ]
  },
  {
   "cell_type": "code",
   "execution_count": 4,
   "metadata": {
    "collapsed": false
   },
   "outputs": [
    {
     "name": "stdout",
     "output_type": "stream",
     "text": [
      "---------------\n",
      "Веб программирование\n",
      "ННГУ им.Лобачевского\n",
      "---------------\n"
     ]
    },
    {
     "data": {
      "text/plain": [
       "undefined"
      ]
     },
     "execution_count": 4,
     "metadata": {},
     "output_type": "execute_result"
    }
   ],
   "source": [
    "function printLogo() {\n",
    "    console.log('---------------');\n",
    "    console.log('Веб программирование');\n",
    "    console.log('ННГУ им.Лобачевского');\n",
    "    console.log('---------------');\n",
    "}\n",
    "\n",
    "function anotherPrint() {\n",
    "    printLogo();\n",
    "    // попробуйте anotherPrint();\n",
    "}\n",
    "\n",
    "anotherPrint();"
   ]
  },
  {
   "cell_type": "markdown",
   "metadata": {
    "collapsed": true
   },
   "source": [
    "### Параметры функции\n",
    "- Для того, чтобы передать информацию в функцию необходимо указать **параметры** (которые называются **аргументами**)\n",
    "  - Вы можете не передавть параметров, а можете передать их сколько угодно\n",
    "  - Каждый параметр именуется\n",
    "  - Параметры обычно являются значениями, которые используются внутри функции\n",
    "- Параметры изменяют поведение функции в зависимости от того, какие значения они хранят\n",
    "\n",
    "### Установлене и использовние параметров функции\n",
    "- Поведение функции зависит от переданных параметров\n",
    "- Параметры могут быть любым типом\n",
    "  - `Number`, `String`, `Object`, `Array`, и.т.д.\n",
    "  - Даже быть `Function` (другой функцией)"
   ]
  },
  {
   "cell_type": "code",
   "execution_count": 6,
   "metadata": {
    "collapsed": false
   },
   "outputs": [
    {
     "name": "stdout",
     "output_type": "stream",
     "text": [
      "Положительное\n",
      "Отрицательное\n",
      "Ноль\n"
     ]
    },
    {
     "data": {
      "text/plain": [
       "undefined"
      ]
     },
     "execution_count": 6,
     "metadata": {},
     "output_type": "execute_result"
    }
   ],
   "source": [
    "function printSign(number) {\n",
    "    if (number > 0) {\n",
    "        console.log(\"Положительное\");\n",
    "    } else if (number < 0) {\n",
    "        console.log(\"Отрицательное\");\n",
    "    } else {\n",
    "        console.log(\"Ноль\");\n",
    "    }\n",
    "}\n",
    "\n",
    "printSign(3)\n",
    "printSign(-3)\n",
    "printSign(0)"
   ]
  },
  {
   "cell_type": "markdown",
   "metadata": {},
   "source": [
    "- Функции могут иметь столько параметров, сколько необходимо:"
   ]
  },
  {
   "cell_type": "code",
   "execution_count": 12,
   "metadata": {
    "collapsed": false
   },
   "outputs": [
    {
     "name": "stdout",
     "output_type": "stream",
     "text": [
      "Maximal number: 4\n"
     ]
    },
    {
     "data": {
      "text/plain": [
       "undefined"
      ]
     },
     "execution_count": 12,
     "metadata": {},
     "output_type": "execute_result"
    }
   ],
   "source": [
    "function printMax(x, y) {\n",
    "  var max;\n",
    "  x = +x; y = +y;\n",
    "  max = x;\n",
    "\n",
    "  if (y > max) {\n",
    "    max = y;\n",
    "  }\n",
    "  console.log(`Maximal number: ${max}`);\n",
    "}\n",
    "\n",
    "printMax(2, 4)"
   ]
  },
  {
   "cell_type": "markdown",
   "metadata": {},
   "source": [
    "### Вызов функций с параметрами\n",
    "- Для вызоа функций и передачи параметров в качестве аргументов:\n",
    "  - Используется имя функции и указание параметров перечисленных через запятую внутри круглых скобок"
   ]
  },
  {
   "cell_type": "markdown",
   "metadata": {},
   "source": [
    "- Вывести знак числа на экран"
   ]
  },
  {
   "cell_type": "code",
   "execution_count": 13,
   "metadata": {
    "collapsed": false
   },
   "outputs": [
    {
     "name": "stdout",
     "output_type": "stream",
     "text": [
      "Число -5 отрицательное.\n",
      "Число 5 положительное.\n",
      "Maximal number: 200\n"
     ]
    },
    {
     "data": {
      "text/plain": [
       "undefined"
      ]
     },
     "execution_count": 13,
     "metadata": {},
     "output_type": "execute_result"
    }
   ],
   "source": [
    "function printSign(number) {\n",
    "  number = +number;\n",
    "\n",
    "  if (number > 0) {\n",
    "    console.log(`Число ${number} положительное.`);\n",
    "  } else if (number < 0) {\n",
    "    console.log(`Число ${number} отрицательное.`);\n",
    "  } else {\n",
    "    console.log(`Число ${number} ноль.`);\n",
    "  }\n",
    "}\n",
    "\n",
    "printSign(-5);\n",
    "//printSign(balance);\n",
    "printSign(2 + 3);\n",
    "printMax(100, 200);\n",
    "//printMax(oldQuantity * 1.5, quantity * 2);"
   ]
  },
  {
   "cell_type": "markdown",
   "metadata": {},
   "source": [
    "- создание функции, которая выводит треугольник из цифр:\n",
    "\n",
    "  ```js\n",
    "  n = 6                  n = 5\n",
    "\n",
    "  1\n",
    "  1 2                    1\n",
    "  1 2 3                  1 2\n",
    "  1 2 3 4                1 2 3\n",
    "  1 2 3 4 5              1 2 3 4\n",
    "  1 2 3 4 5 6            1 2 3 4 5\n",
    "  1 2 3 4 5              1 2 3 4\n",
    "  1 2 3 4                1 2 3\n",
    "  1 2 3                  1 2\n",
    "  1 2                    1\n",
    "  1\n",
    "  ```\n"
   ]
  },
  {
   "cell_type": "code",
   "execution_count": 16,
   "metadata": {
    "collapsed": false
   },
   "outputs": [
    {
     "name": "stdout",
     "output_type": "stream",
     "text": [
      " 1\n",
      " 1 2\n",
      " 1 2 3\n",
      " 1 2 3 4\n",
      " 1 2 3 4 5\n",
      " 1 2 3 4 5 6\n",
      " 1 2 3 4 5 6 7\n",
      " 1 2 3 4 5 6 7 8\n",
      " 1 2 3 4 5 6 7 8 9\n",
      " 1 2 3 4 5 6 7 8 9 10\n",
      " 1 2 3 4 5 6 7 8 9\n",
      " 1 2 3 4 5 6 7 8\n",
      " 1 2 3 4 5 6 7\n",
      " 1 2 3 4 5 6\n",
      " 1 2 3 4 5\n",
      " 1 2 3 4\n",
      " 1 2 3\n",
      " 1 2\n",
      " 1\n"
     ]
    },
    {
     "data": {
      "text/plain": [
       "undefined"
      ]
     },
     "execution_count": 16,
     "metadata": {},
     "output_type": "execute_result"
    }
   ],
   "source": [
    "function pringTriangle(n) {\n",
    "  var line;\n",
    "  n = +n;\n",
    "\n",
    "  for (line = 1; line <= n; line += 1) {\n",
    "    printLine(1, line);\n",
    "  }\n",
    "\n",
    "  for (line = n-1; line >= 1; line -= 1) {\n",
    "    printLine(1, line);\n",
    "  }\n",
    "}\n",
    "\n",
    "function printLine(start, end) {\n",
    "  var line = \"\",\n",
    "      i;\n",
    "  start = +start; end = +end;\n",
    "  for (i = start; i <= end; i += 1){\n",
    "    line += \" \" + i;\n",
    "  }\n",
    "  console.log(line);\n",
    "}\n",
    "\n",
    "pringTriangle(10)"
   ]
  },
  {
   "cell_type": "markdown",
   "metadata": {},
   "source": [
    "### Объект `arguments`\n",
    "\n",
    "- Каждая функция JavaScript имеет встроенный параметр `arguments`\n",
    "  - он хранит информацию о параметрах передаваемых в функцию\n",
    "  - Нет необходимости явного объявления\n",
    "    - Содержится в любой функции"
   ]
  },
  {
   "cell_type": "code",
   "execution_count": 17,
   "metadata": {
    "collapsed": false
   },
   "outputs": [
    {
     "name": "stdout",
     "output_type": "stream",
     "text": [
      "1\n",
      "2\n",
      "3\n",
      "4\n"
     ]
    },
    {
     "data": {
      "text/plain": [
       "undefined"
      ]
     },
     "execution_count": 17,
     "metadata": {},
     "output_type": "execute_result"
    }
   ],
   "source": [
    "function printArguments() {\n",
    "  var i;\n",
    "  for(i in arguments) {\n",
    "    console.log(arguments[i]);\n",
    "  }\n",
    "}\n",
    "printArguments(1, 2, 3, 4);"
   ]
  },
  {
   "cell_type": "markdown",
   "metadata": {},
   "source": [
    "- обьект arguments не является массивом\n",
    "  - Он имеет похожую с массивами функциональность\n",
    "- Если его надо перебрать, лучше его передать в массив:"
   ]
  },
  {
   "cell_type": "code",
   "execution_count": 62,
   "metadata": {
    "collapsed": false
   },
   "outputs": [
    {
     "name": "stdout",
     "output_type": "stream",
     "text": [
      "1\n",
      "2\n",
      "3\n",
      "4\n",
      "[ 1, 2, 3, 4, 5 ]\n",
      "Stirng\n",
      "{}\n",
      "2017-02-21T15:21:10.810Z\n"
     ]
    },
    {
     "data": {
      "text/plain": [
       "undefined"
      ]
     },
     "execution_count": 62,
     "metadata": {},
     "output_type": "execute_result"
    }
   ],
   "source": [
    "function printArguments() {\n",
    "  var i,\n",
    "      args;\n",
    "\n",
    "  args = [].slice.apply(arguments);\n",
    "  for(i in args) {\n",
    "    console.log(args[i]);\n",
    "  }\n",
    "}\n",
    "\n",
    "printArguments(1, 2, 3, 4); //1, 2, 3, 4\n",
    "printArguments([1, 2, 3, 4, 5], 'Stirng', new Object(), new Date());"
   ]
  },
  {
   "cell_type": "markdown",
   "metadata": {},
   "source": [
    "### Возврат значений из функции\n",
    "- Каждая фыункция в JavaScript возвращает значения\n",
    "  - Возвращает `undefined` если не указывается возвращаемое значение\n",
    "  - Может быть любым типом\n",
    "    - `Number`, `String`, `Object`, `Function`\n",
    "\n",
    "      ```js\n",
    "      var head = arr.shift();\n",
    "      var price = getPrice() * quantity * 1.20;\n",
    "      var noValue = arr.sort();\n",
    "      ```\n",
    "\n",
    "- Функции могут возвращать любой тип данных:\n",
    "  - `Number`, `String`, `Object`, и.т.д.\n",
    "- Используйте `return` ключевое слово для возвращения результата"
   ]
  },
  {
   "cell_type": "code",
   "execution_count": 24,
   "metadata": {
    "collapsed": false
   },
   "outputs": [
    {
     "name": "stdout",
     "output_type": "stream",
     "text": [
      "12\n",
      "26\n"
     ]
    },
    {
     "data": {
      "text/plain": [
       "undefined"
      ]
     },
     "execution_count": 24,
     "metadata": {},
     "output_type": "execute_result"
    }
   ],
   "source": [
    "function multiply(firstNum, secondNum) {\n",
    "    return firstNum * secondNum;\n",
    "}\n",
    "\n",
    "function sum(numbers) {\n",
    "  var sum = 0, number;\n",
    "  for(number of numbers){\n",
    "    sum += number;\n",
    "  }\n",
    "  return sum;\n",
    "}\n",
    "\n",
    "console.log(multiply(2,6))\n",
    "console.log(sum([2,4,5,7,8]))"
   ]
  },
  {
   "cell_type": "markdown",
   "metadata": {},
   "source": [
    "### `return` утверждение\n",
    "\n",
    "- `return` утверждение:\n",
    "  - Немиедлено прерывает выполнение функции\n",
    "  - Возвращает указанное значение\n",
    "- Для того, чтобы прервать выполнениеи функции просто вызовете:\n",
    "\n",
    "```js\n",
    "return;\n",
    "```\n",
    "\n",
    "- Return может быть указано сколько угодно раз внутри функции\n",
    "  - Для того, чтобы вернуть определенное значение в определенной ветке функции\n",
    "\n",
    "- Проверка числа на простоту:"
   ]
  },
  {
   "cell_type": "code",
   "execution_count": 27,
   "metadata": {
    "collapsed": false
   },
   "outputs": [
    {
     "data": {
      "text/plain": [
       "false"
      ]
     },
     "execution_count": 27,
     "metadata": {},
     "output_type": "execute_result"
    }
   ],
   "source": [
    "function isPrime(number){\n",
    "  var divider,\n",
    "      maxDivider;\n",
    "\n",
    "  number = +number;\n",
    "  maxDivider = Math.sqrt(number);\n",
    "\n",
    "  for(divider = 2; divider <= maxDivider; divider += 1){\n",
    "    if(number % divider === 0) {\n",
    "      return false;\n",
    "    }\n",
    "  }\n",
    "  return true;\n",
    "}\n",
    "\n",
    "isPrime(4)"
   ]
  },
  {
   "cell_type": "markdown",
   "metadata": {},
   "source": [
    "- Вычислить сумму всехсодержащихся в массиве четных чисел"
   ]
  },
  {
   "cell_type": "code",
   "execution_count": 28,
   "metadata": {
    "collapsed": false
   },
   "outputs": [
    {
     "data": {
      "text/plain": [
       "2"
      ]
     },
     "execution_count": 28,
     "metadata": {},
     "output_type": "execute_result"
    }
   ],
   "source": [
    "function sum(numbers) {\n",
    "  var number,\n",
    "    sum = 0;\n",
    "\n",
    "  for (number of numbers) {\n",
    "    if (0 === number % 2) {\n",
    "      sum += number;\n",
    "    }\n",
    "  }\n",
    "  return sum;\n",
    "}\n",
    "\n",
    "sum([2,5,3,7,3,7,3])"
   ]
  },
  {
   "cell_type": "markdown",
   "metadata": {},
   "source": [
    "### Области видимости функций\n",
    "\n",
    "- Каждая переменная может использоваться в определенной для нее области видимости\n",
    "  - Облать определяет то, где переменная может использоваться\n",
    "  - Обычно применяется **локальная** и **глобальная** область видимости"
   ]
  },
  {
   "cell_type": "code",
   "execution_count": 61,
   "metadata": {
    "collapsed": false
   },
   "outputs": [
    {
     "data": {
      "text/plain": [
       "4"
      ]
     },
     "execution_count": 61,
     "metadata": {},
     "output_type": "execute_result"
    }
   ],
   "source": [
    "var arr = [1, 2, 3, 3, 4, 3, 5, 3, 6, 7];\n",
    "\n",
    "function countOccurences(value) {\n",
    "    var i, \n",
    "        count = 0;\n",
    "\n",
    "    for (i = 0; i < arr.length; i++) {\n",
    "        if (arr[i] === value) count++;\n",
    "    }\n",
    "\n",
    "    return count;\n",
    "}\n",
    "\n",
    "countOccurences(3)"
   ]
  },
  {
   "cell_type": "markdown",
   "metadata": {},
   "source": [
    "- `arr` определена в глобальной области видимости (это значит может использоваться везде)\n",
    "- `count` обьявлена внутри `countOccurences` и может использоваться только внутри нее\n",
    "- Попробуйте убрать`var` перед count"
   ]
  },
  {
   "cell_type": "markdown",
   "metadata": {},
   "source": [
    "### Перегрузка функций\n",
    "\n",
    "- JavaScript не поддерживает перегрузку функций\n",
    "  - т.е функции с одинаковым именем перекрывают друг друга"
   ]
  },
  {
   "cell_type": "code",
   "execution_count": 63,
   "metadata": {
    "collapsed": false
   },
   "outputs": [
    {
     "name": "stdout",
     "output_type": "stream",
     "text": [
      "Number: 2\n",
      "Text: undefined\n"
     ]
    },
    {
     "data": {
      "text/plain": [
       "undefined"
      ]
     },
     "execution_count": 63,
     "metadata": {},
     "output_type": "execute_result"
    }
   ],
   "source": [
    "function print(number) {\n",
    "  console.log(`Number: ${number}`);\n",
    "}\n",
    "\n",
    "function print(number, text) {\n",
    "  console.log(`Number: ${number}\\nText: ${text}`);\n",
    "}\n",
    "\n",
    "print(2);"
   ]
  },
  {
   "cell_type": "markdown",
   "metadata": {},
   "source": [
    "### Перегрузка функций в JavaScript\n",
    "\n",
    "- Перегрузку функций в JavaScript можно подделать\n",
    "  - т.е сделать похожей на перегрузку\n",
    "\t- Существует несколько способов как это сделать\n",
    "\n",
    "- Разное число параметров:"
   ]
  },
  {
   "cell_type": "code",
   "execution_count": 64,
   "metadata": {
    "collapsed": false
   },
   "outputs": [
    {
     "name": "stdout",
     "output_type": "stream",
     "text": [
      "Number: 5\n",
      "Number: 5\n",
      "Text: Lorem Ipsum\n"
     ]
    },
    {
     "data": {
      "text/plain": [
       "undefined"
      ]
     },
     "execution_count": 64,
     "metadata": {},
     "output_type": "execute_result"
    }
   ],
   "source": [
    "function printText (number, text) {\n",
    "  switch (arguments.length) {\n",
    "    case 1 : console.log (`Number: ${number}`);\n",
    "      break;\n",
    "    case 2 :\n",
    "      console.log (`Number: ${number}`);\n",
    "      console.log (`Text: ${text}`);\n",
    "      break;\n",
    "  }\n",
    "}\n",
    "\n",
    "printText (5); //logs 5\n",
    "printText (5, \"Lorem Ipsum\"); //logs 5 and Lorem Ipsum\n"
   ]
  },
  {
   "cell_type": "markdown",
   "metadata": {},
   "source": [
    "- Разные типы параметров:"
   ]
  },
  {
   "cell_type": "code",
   "execution_count": 65,
   "metadata": {
    "collapsed": false
   },
   "outputs": [
    {
     "name": "stdout",
     "output_type": "stream",
     "text": [
      "Number: 5\n",
      "String: Lorem Ipsum\n",
      "Object: 1,2,3,4\n",
      "Number: true\n"
     ]
    },
    {
     "data": {
      "text/plain": [
       "undefined"
      ]
     },
     "execution_count": 65,
     "metadata": {},
     "output_type": "execute_result"
    }
   ],
   "source": [
    "function printValue (value) {\n",
    "  switch (typeof value) {\n",
    "    case \"number\" : console.log (`Number: ${value}`); break;\n",
    "    case \"string\" : console.log (`String: ${value}`); break;\n",
    "    case \"object\" : console.log (`Object: ${value}`); break;\n",
    "    case \"boolean\" : console.log (`Number: ${value}`); break;\n",
    "  }\n",
    "}\n",
    "\n",
    "printValue (5);\n",
    "printValue (\"Lorem Ipsum\");\n",
    "printValue ([1, 2, 3, 4]);\n",
    "printValue (true);"
   ]
  },
  {
   "cell_type": "markdown",
   "metadata": {},
   "source": [
    "### Перегрузка с помощью параметров по умолчанию\n",
    "- в JavaScript все параметры опциональны\n",
    "  - функция может быть вызвана без их указания\n",
    "- Параметры по умолчанию проверяются в теле функции\n",
    "  - Если параметр не указан, присвоить ему значение"
   ]
  },
  {
   "cell_type": "code",
   "execution_count": 70,
   "metadata": {
    "collapsed": false
   },
   "outputs": [
    {
     "name": "stdout",
     "output_type": "stream",
     "text": [
      "true\n",
      "false\n",
      "false\n"
     ]
    },
    {
     "data": {
      "text/plain": [
       "undefined"
      ]
     },
     "execution_count": 70,
     "metadata": {},
     "output_type": "execute_result"
    }
   ],
   "source": [
    "var arr = [1, 2, 3, 4, 5, 6, 7, 8];\n",
    "\n",
    "function contains(arr, value, start, end) {\n",
    "    var i;\n",
    "\n",
    "    start = start || 0;\n",
    "    end = end || arr.length;\n",
    "    for (i = start; i < end; i++) {\n",
    "        if (arr[i] === value) {\n",
    "            return true;\n",
    "        }\n",
    "    }\n",
    "\n",
    "    return false;\n",
    "}\n",
    "\n",
    "console.log(contains(arr, 3));\n",
    "console.log(contains(arr, 3, 3));\n",
    "console.log(contains(arr, 3, 0, 1));"
   ]
  },
  {
   "cell_type": "code",
   "execution_count": null,
   "metadata": {
    "collapsed": true
   },
   "outputs": [],
   "source": []
  }
 ],
 "metadata": {
  "kernelspec": {
   "display_name": "Javascript (Node.js)",
   "language": "javascript",
   "name": "javascript"
  },
  "language_info": {
   "file_extension": ".js",
   "mimetype": "application/javascript",
   "name": "javascript",
   "version": "7.5.0"
  }
 },
 "nbformat": 4,
 "nbformat_minor": 2
}
